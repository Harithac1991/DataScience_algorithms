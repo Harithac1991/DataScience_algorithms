{
 "cells": [
  {
   "cell_type": "markdown",
   "metadata": {},
   "source": [
    "### Load libraries "
   ]
  },
  {
   "cell_type": "markdown",
   "metadata": {},
   "source": [
    "- Aim of the work is to build a model that can predict median housing values for houses in california\n",
    "- So that we can apply the model to any house coming up for sale to decide up on fair opening house price\n",
    "- The price depends on age of the house, prices of other houses  around and many more factors which we would explore in EDA\n"
   ]
  },
  {
   "cell_type": "code",
   "execution_count": 6,
   "metadata": {},
   "outputs": [],
   "source": [
    "import os\n",
    "from urllib.request import urlretrieve\n",
    "import tarfile\n",
    "\n",
    "import pandas as pd"
   ]
  },
  {
   "cell_type": "code",
   "execution_count": 7,
   "metadata": {},
   "outputs": [],
   "source": [
    "DOWNLOAD_ROOT = \"https://raw.githubusercontent.com/ageron/handson-ml2/master/\"\n",
    "HOUSING_PATH = os.path.join(\"datasets\", \"housing\")\n",
    "HOUSING_URL = DOWNLOAD_ROOT + \"datasets/housing/housing.tgz\""
   ]
  },
  {
   "cell_type": "markdown",
   "metadata": {},
   "source": [
    "### fetch the housing data"
   ]
  },
  {
   "cell_type": "code",
   "execution_count": 30,
   "metadata": {},
   "outputs": [],
   "source": [
    "def fetch_housing_data(housing_url=HOUSING_URL, housing_path=HOUSING_PATH):\n",
    "    if not os.path.isdir(housing_path):\n",
    "        os.makedirs(housing_path)\n",
    "    tgz_path = os.path.join(housing_path, \"housing.tgz\")\n",
    "    urllib.request.urlretrieve(housing_url, tgz_path)\n",
    "    housing_tgz = tarfile.open(tgz_path)\n",
    "    housing_tgz.extractall(path=housing_path)\n",
    "    housing_tgz.close()\n",
    "fetch_housing_data()"
   ]
  },
  {
   "cell_type": "markdown",
   "metadata": {},
   "source": [
    "### load the the data "
   ]
  },
  {
   "cell_type": "code",
   "execution_count": 70,
   "metadata": {},
   "outputs": [],
   "source": [
    "def load_housing_data(housing_path = HOUSING_PATH):\n",
    "    return (pd.read_csv(os.path.join(housing_path, \"housing.csv\")))"
   ]
  },
  {
   "cell_type": "code",
   "execution_count": 71,
   "metadata": {},
   "outputs": [
    {
     "data": {
      "text/html": [
       "<div>\n",
       "<style scoped>\n",
       "    .dataframe tbody tr th:only-of-type {\n",
       "        vertical-align: middle;\n",
       "    }\n",
       "\n",
       "    .dataframe tbody tr th {\n",
       "        vertical-align: top;\n",
       "    }\n",
       "\n",
       "    .dataframe thead th {\n",
       "        text-align: right;\n",
       "    }\n",
       "</style>\n",
       "<table border=\"1\" class=\"dataframe\">\n",
       "  <thead>\n",
       "    <tr style=\"text-align: right;\">\n",
       "      <th></th>\n",
       "      <th>longitude</th>\n",
       "      <th>latitude</th>\n",
       "      <th>housing_median_age</th>\n",
       "      <th>total_rooms</th>\n",
       "      <th>total_bedrooms</th>\n",
       "      <th>population</th>\n",
       "      <th>households</th>\n",
       "      <th>median_income</th>\n",
       "      <th>median_house_value</th>\n",
       "      <th>ocean_proximity</th>\n",
       "    </tr>\n",
       "  </thead>\n",
       "  <tbody>\n",
       "    <tr>\n",
       "      <th>0</th>\n",
       "      <td>-122.23</td>\n",
       "      <td>37.88</td>\n",
       "      <td>41.0</td>\n",
       "      <td>880.0</td>\n",
       "      <td>129.0</td>\n",
       "      <td>322.0</td>\n",
       "      <td>126.0</td>\n",
       "      <td>8.3252</td>\n",
       "      <td>452600.0</td>\n",
       "      <td>NEAR BAY</td>\n",
       "    </tr>\n",
       "    <tr>\n",
       "      <th>1</th>\n",
       "      <td>-122.22</td>\n",
       "      <td>37.86</td>\n",
       "      <td>21.0</td>\n",
       "      <td>7099.0</td>\n",
       "      <td>1106.0</td>\n",
       "      <td>2401.0</td>\n",
       "      <td>1138.0</td>\n",
       "      <td>8.3014</td>\n",
       "      <td>358500.0</td>\n",
       "      <td>NEAR BAY</td>\n",
       "    </tr>\n",
       "    <tr>\n",
       "      <th>2</th>\n",
       "      <td>-122.24</td>\n",
       "      <td>37.85</td>\n",
       "      <td>52.0</td>\n",
       "      <td>1467.0</td>\n",
       "      <td>190.0</td>\n",
       "      <td>496.0</td>\n",
       "      <td>177.0</td>\n",
       "      <td>7.2574</td>\n",
       "      <td>352100.0</td>\n",
       "      <td>NEAR BAY</td>\n",
       "    </tr>\n",
       "    <tr>\n",
       "      <th>3</th>\n",
       "      <td>-122.25</td>\n",
       "      <td>37.85</td>\n",
       "      <td>52.0</td>\n",
       "      <td>1274.0</td>\n",
       "      <td>235.0</td>\n",
       "      <td>558.0</td>\n",
       "      <td>219.0</td>\n",
       "      <td>5.6431</td>\n",
       "      <td>341300.0</td>\n",
       "      <td>NEAR BAY</td>\n",
       "    </tr>\n",
       "    <tr>\n",
       "      <th>4</th>\n",
       "      <td>-122.25</td>\n",
       "      <td>37.85</td>\n",
       "      <td>52.0</td>\n",
       "      <td>1627.0</td>\n",
       "      <td>280.0</td>\n",
       "      <td>565.0</td>\n",
       "      <td>259.0</td>\n",
       "      <td>3.8462</td>\n",
       "      <td>342200.0</td>\n",
       "      <td>NEAR BAY</td>\n",
       "    </tr>\n",
       "  </tbody>\n",
       "</table>\n",
       "</div>"
      ],
      "text/plain": [
       "   longitude  latitude  housing_median_age  total_rooms  total_bedrooms  \\\n",
       "0    -122.23     37.88                41.0        880.0           129.0   \n",
       "1    -122.22     37.86                21.0       7099.0          1106.0   \n",
       "2    -122.24     37.85                52.0       1467.0           190.0   \n",
       "3    -122.25     37.85                52.0       1274.0           235.0   \n",
       "4    -122.25     37.85                52.0       1627.0           280.0   \n",
       "\n",
       "   population  households  median_income  median_house_value ocean_proximity  \n",
       "0       322.0       126.0         8.3252            452600.0        NEAR BAY  \n",
       "1      2401.0      1138.0         8.3014            358500.0        NEAR BAY  \n",
       "2       496.0       177.0         7.2574            352100.0        NEAR BAY  \n",
       "3       558.0       219.0         5.6431            341300.0        NEAR BAY  \n",
       "4       565.0       259.0         3.8462            342200.0        NEAR BAY  "
      ]
     },
     "execution_count": 71,
     "metadata": {},
     "output_type": "execute_result"
    }
   ],
   "source": [
    "housing = load_housing_data()\n",
    "housing.head()"
   ]
  },
  {
   "cell_type": "code",
   "execution_count": 72,
   "metadata": {},
   "outputs": [
    {
     "name": "stdout",
     "output_type": "stream",
     "text": [
      "<class 'pandas.core.frame.DataFrame'>\n",
      "RangeIndex: 20640 entries, 0 to 20639\n",
      "Data columns (total 10 columns):\n",
      " #   Column              Non-Null Count  Dtype  \n",
      "---  ------              --------------  -----  \n",
      " 0   longitude           20640 non-null  float64\n",
      " 1   latitude            20640 non-null  float64\n",
      " 2   housing_median_age  20640 non-null  float64\n",
      " 3   total_rooms         20640 non-null  float64\n",
      " 4   total_bedrooms      20433 non-null  float64\n",
      " 5   population          20640 non-null  float64\n",
      " 6   households          20640 non-null  float64\n",
      " 7   median_income       20640 non-null  float64\n",
      " 8   median_house_value  20640 non-null  float64\n",
      " 9   ocean_proximity     20640 non-null  object \n",
      "dtypes: float64(9), object(1)\n",
      "memory usage: 1.6+ MB\n"
     ]
    }
   ],
   "source": [
    "housing.info()"
   ]
  },
  {
   "cell_type": "code",
   "execution_count": 73,
   "metadata": {},
   "outputs": [
    {
     "data": {
      "text/plain": [
       "(20640, 10)"
      ]
     },
     "execution_count": 73,
     "metadata": {},
     "output_type": "execute_result"
    }
   ],
   "source": [
    "housing.shape\n"
   ]
  },
  {
   "cell_type": "code",
   "execution_count": 74,
   "metadata": {},
   "outputs": [
    {
     "data": {
      "text/html": [
       "<div>\n",
       "<style scoped>\n",
       "    .dataframe tbody tr th:only-of-type {\n",
       "        vertical-align: middle;\n",
       "    }\n",
       "\n",
       "    .dataframe tbody tr th {\n",
       "        vertical-align: top;\n",
       "    }\n",
       "\n",
       "    .dataframe thead th {\n",
       "        text-align: right;\n",
       "    }\n",
       "</style>\n",
       "<table border=\"1\" class=\"dataframe\">\n",
       "  <thead>\n",
       "    <tr style=\"text-align: right;\">\n",
       "      <th></th>\n",
       "      <th>longitude</th>\n",
       "      <th>latitude</th>\n",
       "      <th>housing_median_age</th>\n",
       "      <th>total_rooms</th>\n",
       "      <th>total_bedrooms</th>\n",
       "      <th>population</th>\n",
       "      <th>households</th>\n",
       "      <th>median_income</th>\n",
       "      <th>median_house_value</th>\n",
       "    </tr>\n",
       "  </thead>\n",
       "  <tbody>\n",
       "    <tr>\n",
       "      <th>count</th>\n",
       "      <td>20640.000000</td>\n",
       "      <td>20640.000000</td>\n",
       "      <td>20640.000000</td>\n",
       "      <td>20640.000000</td>\n",
       "      <td>20433.000000</td>\n",
       "      <td>20640.000000</td>\n",
       "      <td>20640.000000</td>\n",
       "      <td>20640.000000</td>\n",
       "      <td>20640.000000</td>\n",
       "    </tr>\n",
       "    <tr>\n",
       "      <th>mean</th>\n",
       "      <td>-119.569704</td>\n",
       "      <td>35.631861</td>\n",
       "      <td>28.639486</td>\n",
       "      <td>2635.763081</td>\n",
       "      <td>537.870553</td>\n",
       "      <td>1425.476744</td>\n",
       "      <td>499.539680</td>\n",
       "      <td>3.870671</td>\n",
       "      <td>206855.816909</td>\n",
       "    </tr>\n",
       "    <tr>\n",
       "      <th>std</th>\n",
       "      <td>2.003532</td>\n",
       "      <td>2.135952</td>\n",
       "      <td>12.585558</td>\n",
       "      <td>2181.615252</td>\n",
       "      <td>421.385070</td>\n",
       "      <td>1132.462122</td>\n",
       "      <td>382.329753</td>\n",
       "      <td>1.899822</td>\n",
       "      <td>115395.615874</td>\n",
       "    </tr>\n",
       "    <tr>\n",
       "      <th>min</th>\n",
       "      <td>-124.350000</td>\n",
       "      <td>32.540000</td>\n",
       "      <td>1.000000</td>\n",
       "      <td>2.000000</td>\n",
       "      <td>1.000000</td>\n",
       "      <td>3.000000</td>\n",
       "      <td>1.000000</td>\n",
       "      <td>0.499900</td>\n",
       "      <td>14999.000000</td>\n",
       "    </tr>\n",
       "    <tr>\n",
       "      <th>25%</th>\n",
       "      <td>-121.800000</td>\n",
       "      <td>33.930000</td>\n",
       "      <td>18.000000</td>\n",
       "      <td>1447.750000</td>\n",
       "      <td>296.000000</td>\n",
       "      <td>787.000000</td>\n",
       "      <td>280.000000</td>\n",
       "      <td>2.563400</td>\n",
       "      <td>119600.000000</td>\n",
       "    </tr>\n",
       "    <tr>\n",
       "      <th>50%</th>\n",
       "      <td>-118.490000</td>\n",
       "      <td>34.260000</td>\n",
       "      <td>29.000000</td>\n",
       "      <td>2127.000000</td>\n",
       "      <td>435.000000</td>\n",
       "      <td>1166.000000</td>\n",
       "      <td>409.000000</td>\n",
       "      <td>3.534800</td>\n",
       "      <td>179700.000000</td>\n",
       "    </tr>\n",
       "    <tr>\n",
       "      <th>75%</th>\n",
       "      <td>-118.010000</td>\n",
       "      <td>37.710000</td>\n",
       "      <td>37.000000</td>\n",
       "      <td>3148.000000</td>\n",
       "      <td>647.000000</td>\n",
       "      <td>1725.000000</td>\n",
       "      <td>605.000000</td>\n",
       "      <td>4.743250</td>\n",
       "      <td>264725.000000</td>\n",
       "    </tr>\n",
       "    <tr>\n",
       "      <th>max</th>\n",
       "      <td>-114.310000</td>\n",
       "      <td>41.950000</td>\n",
       "      <td>52.000000</td>\n",
       "      <td>39320.000000</td>\n",
       "      <td>6445.000000</td>\n",
       "      <td>35682.000000</td>\n",
       "      <td>6082.000000</td>\n",
       "      <td>15.000100</td>\n",
       "      <td>500001.000000</td>\n",
       "    </tr>\n",
       "  </tbody>\n",
       "</table>\n",
       "</div>"
      ],
      "text/plain": [
       "          longitude      latitude  housing_median_age   total_rooms  \\\n",
       "count  20640.000000  20640.000000        20640.000000  20640.000000   \n",
       "mean    -119.569704     35.631861           28.639486   2635.763081   \n",
       "std        2.003532      2.135952           12.585558   2181.615252   \n",
       "min     -124.350000     32.540000            1.000000      2.000000   \n",
       "25%     -121.800000     33.930000           18.000000   1447.750000   \n",
       "50%     -118.490000     34.260000           29.000000   2127.000000   \n",
       "75%     -118.010000     37.710000           37.000000   3148.000000   \n",
       "max     -114.310000     41.950000           52.000000  39320.000000   \n",
       "\n",
       "       total_bedrooms    population    households  median_income  \\\n",
       "count    20433.000000  20640.000000  20640.000000   20640.000000   \n",
       "mean       537.870553   1425.476744    499.539680       3.870671   \n",
       "std        421.385070   1132.462122    382.329753       1.899822   \n",
       "min          1.000000      3.000000      1.000000       0.499900   \n",
       "25%        296.000000    787.000000    280.000000       2.563400   \n",
       "50%        435.000000   1166.000000    409.000000       3.534800   \n",
       "75%        647.000000   1725.000000    605.000000       4.743250   \n",
       "max       6445.000000  35682.000000   6082.000000      15.000100   \n",
       "\n",
       "       median_house_value  \n",
       "count        20640.000000  \n",
       "mean        206855.816909  \n",
       "std         115395.615874  \n",
       "min          14999.000000  \n",
       "25%         119600.000000  \n",
       "50%         179700.000000  \n",
       "75%         264725.000000  \n",
       "max         500001.000000  "
      ]
     },
     "execution_count": 74,
     "metadata": {},
     "output_type": "execute_result"
    }
   ],
   "source": [
    "housing.describe()"
   ]
  },
  {
   "cell_type": "code",
   "execution_count": 75,
   "metadata": {},
   "outputs": [
    {
     "data": {
      "image/png": "[encoded data removed]",
      "text/plain": [
       "<Figure size 1440x1080 with 9 Axes>"
      ]
     },
     "metadata": {
      "needs_background": "light"
     },
     "output_type": "display_data"
    }
   ],
   "source": [
    "%matplotlib inline\n",
    "import matplotlib.pyplot as plt\n",
    "housing.hist(bins=20, figsize=(20,15))\n",
    "plt.show()"
   ]
  },
  {
   "cell_type": "markdown",
   "metadata": {},
   "source": [
    "### Set ID column"
   ]
  },
  {
   "cell_type": "code",
   "execution_count": 76,
   "metadata": {},
   "outputs": [
    {
     "data": {
      "text/html": [
       "<div>\n",
       "<style scoped>\n",
       "    .dataframe tbody tr th:only-of-type {\n",
       "        vertical-align: middle;\n",
       "    }\n",
       "\n",
       "    .dataframe tbody tr th {\n",
       "        vertical-align: top;\n",
       "    }\n",
       "\n",
       "    .dataframe thead th {\n",
       "        text-align: right;\n",
       "    }\n",
       "</style>\n",
       "<table border=\"1\" class=\"dataframe\">\n",
       "  <thead>\n",
       "    <tr style=\"text-align: right;\">\n",
       "      <th></th>\n",
       "      <th>index</th>\n",
       "      <th>longitude</th>\n",
       "      <th>latitude</th>\n",
       "      <th>housing_median_age</th>\n",
       "      <th>total_rooms</th>\n",
       "      <th>total_bedrooms</th>\n",
       "      <th>population</th>\n",
       "      <th>households</th>\n",
       "      <th>median_income</th>\n",
       "      <th>median_house_value</th>\n",
       "      <th>ocean_proximity</th>\n",
       "    </tr>\n",
       "  </thead>\n",
       "  <tbody>\n",
       "    <tr>\n",
       "      <th>0</th>\n",
       "      <td>0</td>\n",
       "      <td>-122.23</td>\n",
       "      <td>37.88</td>\n",
       "      <td>41.0</td>\n",
       "      <td>880.0</td>\n",
       "      <td>129.0</td>\n",
       "      <td>322.0</td>\n",
       "      <td>126.0</td>\n",
       "      <td>8.3252</td>\n",
       "      <td>452600.0</td>\n",
       "      <td>NEAR BAY</td>\n",
       "    </tr>\n",
       "    <tr>\n",
       "      <th>1</th>\n",
       "      <td>1</td>\n",
       "      <td>-122.22</td>\n",
       "      <td>37.86</td>\n",
       "      <td>21.0</td>\n",
       "      <td>7099.0</td>\n",
       "      <td>1106.0</td>\n",
       "      <td>2401.0</td>\n",
       "      <td>1138.0</td>\n",
       "      <td>8.3014</td>\n",
       "      <td>358500.0</td>\n",
       "      <td>NEAR BAY</td>\n",
       "    </tr>\n",
       "    <tr>\n",
       "      <th>2</th>\n",
       "      <td>2</td>\n",
       "      <td>-122.24</td>\n",
       "      <td>37.85</td>\n",
       "      <td>52.0</td>\n",
       "      <td>1467.0</td>\n",
       "      <td>190.0</td>\n",
       "      <td>496.0</td>\n",
       "      <td>177.0</td>\n",
       "      <td>7.2574</td>\n",
       "      <td>352100.0</td>\n",
       "      <td>NEAR BAY</td>\n",
       "    </tr>\n",
       "    <tr>\n",
       "      <th>3</th>\n",
       "      <td>3</td>\n",
       "      <td>-122.25</td>\n",
       "      <td>37.85</td>\n",
       "      <td>52.0</td>\n",
       "      <td>1274.0</td>\n",
       "      <td>235.0</td>\n",
       "      <td>558.0</td>\n",
       "      <td>219.0</td>\n",
       "      <td>5.6431</td>\n",
       "      <td>341300.0</td>\n",
       "      <td>NEAR BAY</td>\n",
       "    </tr>\n",
       "    <tr>\n",
       "      <th>4</th>\n",
       "      <td>4</td>\n",
       "      <td>-122.25</td>\n",
       "      <td>37.85</td>\n",
       "      <td>52.0</td>\n",
       "      <td>1627.0</td>\n",
       "      <td>280.0</td>\n",
       "      <td>565.0</td>\n",
       "      <td>259.0</td>\n",
       "      <td>3.8462</td>\n",
       "      <td>342200.0</td>\n",
       "      <td>NEAR BAY</td>\n",
       "    </tr>\n",
       "  </tbody>\n",
       "</table>\n",
       "</div>"
      ],
      "text/plain": [
       "   index  longitude  latitude  housing_median_age  total_rooms  \\\n",
       "0      0    -122.23     37.88                41.0        880.0   \n",
       "1      1    -122.22     37.86                21.0       7099.0   \n",
       "2      2    -122.24     37.85                52.0       1467.0   \n",
       "3      3    -122.25     37.85                52.0       1274.0   \n",
       "4      4    -122.25     37.85                52.0       1627.0   \n",
       "\n",
       "   total_bedrooms  population  households  median_income  median_house_value  \\\n",
       "0           129.0       322.0       126.0         8.3252            452600.0   \n",
       "1          1106.0      2401.0      1138.0         8.3014            358500.0   \n",
       "2           190.0       496.0       177.0         7.2574            352100.0   \n",
       "3           235.0       558.0       219.0         5.6431            341300.0   \n",
       "4           280.0       565.0       259.0         3.8462            342200.0   \n",
       "\n",
       "  ocean_proximity  \n",
       "0        NEAR BAY  \n",
       "1        NEAR BAY  \n",
       "2        NEAR BAY  \n",
       "3        NEAR BAY  \n",
       "4        NEAR BAY  "
      ]
     },
     "execution_count": 76,
     "metadata": {},
     "output_type": "execute_result"
    }
   ],
   "source": [
    "housing_data_withid = housing.reset_index()\n",
    "(housing_data_withid.head())"
   ]
  },
  {
   "cell_type": "markdown",
   "metadata": {},
   "source": [
    "### Median income seems to be most important to business"
   ]
  },
  {
   "cell_type": "code",
   "execution_count": 77,
   "metadata": {},
   "outputs": [
    {
     "data": {
      "text/plain": [
       "<AxesSubplot:>"
      ]
     },
     "execution_count": 77,
     "metadata": {},
     "output_type": "execute_result"
    },
    {
     "data": {
      "image/png": "[encoded data removed]",
      "text/plain": [
       "<Figure size 432x288 with 1 Axes>"
      ]
     },
     "metadata": {
      "needs_background": "light"
     },
     "output_type": "display_data"
    }
   ],
   "source": [
    "housing.median_income.hist(bins=20)"
   ]
  },
  {
   "cell_type": "code",
   "execution_count": 80,
   "metadata": {},
   "outputs": [
    {
     "data": {
      "text/plain": [
       "0        5\n",
       "1        5\n",
       "2        5\n",
       "3        4\n",
       "4        3\n",
       "        ..\n",
       "20635    2\n",
       "20636    2\n",
       "20637    2\n",
       "20638    2\n",
       "20639    2\n",
       "Name: income_cat, Length: 20640, dtype: category\n",
       "Categories (5, int64): [1 < 2 < 3 < 4 < 5]"
      ]
     },
     "execution_count": 80,
     "metadata": {},
     "output_type": "execute_result"
    }
   ],
   "source": [
    "#----------- convert it to buckets based on distribution : 1.5 to 6 = most distribution\n",
    "#---- why should i categorize? : i need to make sure my test set contains various categories of income \n",
    "# Once we convert it to categories, would do a stratified sampling based on the categories\n",
    "import numpy as np\n",
    "housing[\"income_cat\"] = pd.cut(housing.median_income, bins=[0,1.5,3,4.5,6,np.inf],\n",
    "                              labels=[1,2,3,4,5])\n",
    "housing[\"income_cat\"]"
   ]
  },
  {
   "cell_type": "markdown",
   "metadata": {},
   "source": [
    "### Stratified Sampling"
   ]
  },
  {
   "cell_type": "code",
   "execution_count": 241,
   "metadata": {},
   "outputs": [],
   "source": [
    "from sklearn.model_selection import StratifiedShuffleSplit\n",
    "split = StratifiedShuffleSplit(n_splits=1, test_size =0.2, random_state=42)\n",
    "for train_index, test_index in split.split(housing, housing[\"income_cat\"]):\n",
    "    strat_train_set = housing.loc[train_index]\n",
    "    strat_test_set = housing.loc[test_index]"
   ]
  },
  {
   "cell_type": "code",
   "execution_count": 82,
   "metadata": {},
   "outputs": [
    {
     "data": {
      "text/plain": [
       "3    0.350594\n",
       "2    0.318859\n",
       "4    0.176296\n",
       "5    0.114402\n",
       "1    0.039850\n",
       "Name: income_cat, dtype: float64"
      ]
     },
     "execution_count": 82,
     "metadata": {},
     "output_type": "execute_result"
    }
   ],
   "source": [
    "strat_train_set.income_cat.value_counts()/len(strat_train_set)"
   ]
  },
  {
   "cell_type": "code",
   "execution_count": 83,
   "metadata": {},
   "outputs": [
    {
     "data": {
      "text/plain": [
       "3    0.350533\n",
       "2    0.318798\n",
       "4    0.176357\n",
       "5    0.114583\n",
       "1    0.039729\n",
       "Name: income_cat, dtype: float64"
      ]
     },
     "execution_count": 83,
     "metadata": {},
     "output_type": "execute_result"
    }
   ],
   "source": [
    "strat_test_set.income_cat.value_counts()/len(strat_test_set)"
   ]
  },
  {
   "cell_type": "code",
   "execution_count": 84,
   "metadata": {},
   "outputs": [
    {
     "data": {
      "text/plain": [
       "3    0.350581\n",
       "2    0.318847\n",
       "4    0.176308\n",
       "5    0.114438\n",
       "1    0.039826\n",
       "Name: income_cat, dtype: float64"
      ]
     },
     "execution_count": 84,
     "metadata": {},
     "output_type": "execute_result"
    }
   ],
   "source": [
    "housing.income_cat.value_counts()/len(housing)"
   ]
  },
  {
   "cell_type": "markdown",
   "metadata": {},
   "source": [
    "### Income category : drop "
   ]
  },
  {
   "cell_type": "code",
   "execution_count": 85,
   "metadata": {},
   "outputs": [],
   "source": [
    "# Now that the purpose of income category is fullfilled, lets drop it both from train and test \n",
    "for df in (strat_train_set, strat_test_set):\n",
    "    df.drop(\"income_cat\", axis=1, inplace=True)\n"
   ]
  },
  {
   "cell_type": "markdown",
   "metadata": {},
   "source": [
    "### Exploring Train data "
   ]
  },
  {
   "cell_type": "code",
   "execution_count": 86,
   "metadata": {},
   "outputs": [
    {
     "data": {
      "text/plain": [
       "Index(['longitude', 'latitude', 'housing_median_age', 'total_rooms',\n",
       "       'total_bedrooms', 'population', 'households', 'median_income',\n",
       "       'median_house_value', 'ocean_proximity'],\n",
       "      dtype='object')"
      ]
     },
     "execution_count": 86,
     "metadata": {},
     "output_type": "execute_result"
    }
   ],
   "source": [
    "housing_train = strat_train_set.copy()\n",
    "housing_train.columns"
   ]
  },
  {
   "cell_type": "code",
   "execution_count": 87,
   "metadata": {},
   "outputs": [
    {
     "name": "stderr",
     "output_type": "stream",
     "text": [
      "C:\\ProgramData\\Anaconda3\\lib\\site-packages\\pandas\\plotting\\_matplotlib\\core.py:1010: MatplotlibDeprecationWarning: Case-insensitive properties were deprecated in 3.3 and support will be removed two minor releases later\n",
      "  scatter = ax.scatter(\n"
     ]
    },
    {
     "data": {
      "text/plain": [
       "<AxesSubplot:xlabel='longitude', ylabel='latitude'>"
      ]
     },
     "execution_count": 87,
     "metadata": {},
     "output_type": "execute_result"
    },
    {
     "data": {
      "image/png": "[encoded data removed]",
      "text/plain": [
       "<Figure size 432x288 with 1 Axes>"
      ]
     },
     "metadata": {
      "needs_background": "light"
     },
     "output_type": "display_data"
    }
   ],
   "source": [
    "housing_train.plot(kind= \"scatter\", x= \"longitude\", y= \"latitude\", Alpha=0.1)"
   ]
  },
  {
   "cell_type": "code",
   "execution_count": 88,
   "metadata": {},
   "outputs": [
    {
     "data": {
      "text/plain": [
       "<AxesSubplot:xlabel='longitude', ylabel='latitude'>"
      ]
     },
     "execution_count": 88,
     "metadata": {},
     "output_type": "execute_result"
    },
    {
     "data": {
      "image/png": "[encoded data removed]",
      "text/plain": [
       "<Figure size 432x288 with 1 Axes>"
      ]
     },
     "metadata": {
      "needs_background": "light"
     },
     "output_type": "display_data"
    }
   ],
   "source": [
    "housing_train.plot(kind= \"scatter\", x= \"longitude\", y= \"latitude\", Alpha=0.1,\n",
    "                  s= housing_train.population/20,\n",
    "                  )"
   ]
  },
  {
   "cell_type": "code",
   "execution_count": 89,
   "metadata": {},
   "outputs": [
    {
     "data": {
      "text/plain": [
       "<AxesSubplot:xlabel='longitude', ylabel='latitude'>"
      ]
     },
     "execution_count": 89,
     "metadata": {},
     "output_type": "execute_result"
    },
    {
     "data": {
      "image/png": "[encoded data removed]",
      "text/plain": [
       "<Figure size 432x288 with 2 Axes>"
      ]
     },
     "metadata": {
      "needs_background": "light"
     },
     "output_type": "display_data"
    }
   ],
   "source": [
    "housing_train.plot(kind= \"scatter\", x= \"longitude\", y= \"latitude\", Alpha=0.1,\n",
    "                  s= housing_train.population/20,\n",
    "                 c= \"median_house_value\",cmap = plt.get_cmap(\"jet\"), colorbar=True\n",
    "                  )"
   ]
  },
  {
   "cell_type": "code",
   "execution_count": 90,
   "metadata": {},
   "outputs": [
    {
     "data": {
      "text/plain": [
       "median_house_value    1.000000\n",
       "median_income         0.687160\n",
       "total_rooms           0.135097\n",
       "housing_median_age    0.114110\n",
       "households            0.064506\n",
       "total_bedrooms        0.047689\n",
       "population           -0.026920\n",
       "longitude            -0.047432\n",
       "latitude             -0.142724\n",
       "Name: median_house_value, dtype: float64"
      ]
     },
     "execution_count": 90,
     "metadata": {},
     "output_type": "execute_result"
    }
   ],
   "source": [
    "housing_train.corr().median_house_value.sort_values(ascending=False)"
   ]
  },
  {
   "cell_type": "code",
   "execution_count": 91,
   "metadata": {},
   "outputs": [
    {
     "data": {
      "text/plain": [
       "<AxesSubplot:xlabel='median_income', ylabel='median_house_value'>"
      ]
     },
     "execution_count": 91,
     "metadata": {},
     "output_type": "execute_result"
    },
    {
     "data": {
      "image/png": "[encoded data removed]",
      "text/plain": [
       "<Figure size 432x288 with 1 Axes>"
      ]
     },
     "metadata": {
      "needs_background": "light"
     },
     "output_type": "display_data"
    }
   ],
   "source": [
    "#--- lets look at most corr col\n",
    "\n",
    "housing_train.plot(kind= \"scatter\", x= \"median_income\", y = \"median_house_value\")"
   ]
  },
  {
   "cell_type": "markdown",
   "metadata": {},
   "source": [
    "we see here that the values at 500k are capped.\n",
    "The algorithm may not be able to learn what are the  \n",
    "feature that would attribute to median housing price >500k. \n",
    "So we may drop those entries as per business's requirements"
   ]
  },
  {
   "cell_type": "markdown",
   "metadata": {},
   "source": [
    "### Creatiing new features"
   ]
  },
  {
   "cell_type": "markdown",
   "metadata": {},
   "source": [
    "### Create train data and label"
   ]
  },
  {
   "cell_type": "code",
   "execution_count": 92,
   "metadata": {},
   "outputs": [],
   "source": [
    "housing_train_data = housing_train.drop(\"median_house_value\", axis=1)\n",
    "housing_train_label = housing_train.median_house_value.copy()"
   ]
  },
  {
   "cell_type": "code",
   "execution_count": 93,
   "metadata": {},
   "outputs": [
    {
     "data": {
      "text/plain": [
       "pandas.core.series.Series"
      ]
     },
     "execution_count": 93,
     "metadata": {},
     "output_type": "execute_result"
    }
   ],
   "source": [
    "type(housing_train_label)"
   ]
  },
  {
   "cell_type": "code",
   "execution_count": 94,
   "metadata": {},
   "outputs": [
    {
     "data": {
      "text/plain": [
       "pandas.core.series.Series"
      ]
     },
     "execution_count": 94,
     "metadata": {},
     "output_type": "execute_result"
    }
   ],
   "source": [
    "type( housing_train[\"median_house_value\"].copy())"
   ]
  },
  {
   "cell_type": "markdown",
   "metadata": {},
   "source": [
    "### Data Cleaning "
   ]
  },
  {
   "cell_type": "code",
   "execution_count": 95,
   "metadata": {},
   "outputs": [
    {
     "name": "stdout",
     "output_type": "stream",
     "text": [
      "longitude               0\n",
      "latitude                0\n",
      "housing_median_age      0\n",
      "total_rooms             0\n",
      "total_bedrooms        158\n",
      "population              0\n",
      "households              0\n",
      "median_income           0\n",
      "ocean_proximity         0\n",
      "dtype: int64\n",
      "longitude             float64\n",
      "latitude              float64\n",
      "housing_median_age    float64\n",
      "total_rooms           float64\n",
      "total_bedrooms        float64\n",
      "population            float64\n",
      "households            float64\n",
      "median_income         float64\n",
      "ocean_proximity        object\n",
      "dtype: object\n"
     ]
    },
    {
     "data": {
      "text/plain": [
       "SimpleImputer(strategy='median')"
      ]
     },
     "execution_count": 95,
     "metadata": {},
     "output_type": "execute_result"
    }
   ],
   "source": [
    "#NA treatment \n",
    "print(housing_train_data.isna().sum())\n",
    "print (housing_train_data.dtypes)\n",
    "\n",
    "\n",
    "from sklearn.impute import SimpleImputer\n",
    "imputer = SimpleImputer(strategy=\"median\")  # only on numerical fields\n",
    "\n",
    "housing_train_data_numerics = housing_train_data.drop(\"ocean_proximity\",axis=1)\n",
    "imputer.fit(housing_train_data_numerics)\n"
   ]
  },
  {
   "cell_type": "markdown",
   "metadata": {},
   "source": [
    "### Categorical and text value treatment"
   ]
  },
  {
   "cell_type": "code",
   "execution_count": 96,
   "metadata": {},
   "outputs": [
    {
     "name": "stdout",
     "output_type": "stream",
     "text": [
      "<class 'pandas.core.series.Series'>\n",
      "<class 'pandas.core.frame.DataFrame'>\n"
     ]
    }
   ],
   "source": [
    "print(type(housing_train_data.ocean_proximity))\n",
    "print(type(housing_train_data[[\"ocean_proximity\"]]))\n",
    "\n"
   ]
  },
  {
   "cell_type": "markdown",
   "metadata": {},
   "source": [
    "Problem with ordinal encoder is that it make ML model to assumee relationship between the categories.\n",
    "Such as 1 and 2 are more closely related to each other than 1 and 4 as per distance. One hot encoder is a loution for this issue.\n",
    "One hot encoder may slow down  the training due to large categories in the data, in columns with 1000 categories."
   ]
  },
  {
   "cell_type": "markdown",
   "metadata": {},
   "source": [
    "### best programming method is to create your own estimator and transformer\n",
    "### we can do this for extra feature creation"
   ]
  },
  {
   "cell_type": "code",
   "execution_count": 97,
   "metadata": {},
   "outputs": [],
   "source": [
    "from sklearn.base import BaseEstimator, TransformerMixin\n",
    "\n",
    "room_ix , brdroom_ix, population_ix , households_ix = 3,4,5, 6\n",
    "\n",
    "class CombinedAttributesAdder(BaseEstimator, TransformerMixin):\n",
    "    def __init__(self, add_bedrooms_per_room= True):\n",
    "        self.add_bedrooms_per_room= add_bedrooms_per_room\n",
    "        \n",
    "    def fit(self, X,y=None):\n",
    "        return self\n",
    "        \n",
    "    def transform(self, X):\n",
    "        rooms_per_household = X[:,room_ix]/ X[:,households_ix]\n",
    "        population_per_household = X[:, population_ix]/X[:,households_ix]\n",
    "        if self.add_bedrooms_per_room:\n",
    "            return np.c_[X, rooms_per_household,population_per_household,add_bedrooms_per_room ]\n",
    "        else :\n",
    "            return np.c_[X, rooms_per_household,population_per_household ]\n",
    "\n",
    "        \n",
    "attr_adder = CombinedAttributesAdder(add_bedrooms_per_room= False)\n",
    "housing_extra_Attribs = attr_adder.transform(housing_train_data.values)\n",
    "        "
   ]
  },
  {
   "cell_type": "markdown",
   "metadata": {},
   "source": [
    "### Data imputation, encoding all these can be build by a pipeline"
   ]
  },
  {
   "cell_type": "code",
   "execution_count": 98,
   "metadata": {},
   "outputs": [
    {
     "data": {
      "text/plain": [
       "array([[-1.15604281,  0.77194962,  0.74333089, ..., -0.61493744,\n",
       "        -0.31205452, -0.08649871],\n",
       "       [-1.17602483,  0.6596948 , -1.1653172 , ...,  1.33645936,\n",
       "         0.21768338, -0.03353391],\n",
       "       [ 1.18684903, -1.34218285,  0.18664186, ..., -0.5320456 ,\n",
       "        -0.46531516, -0.09240499],\n",
       "       ...,\n",
       "       [ 1.58648943, -0.72478134, -1.56295222, ..., -0.3167053 ,\n",
       "         0.3469342 , -0.03055414],\n",
       "       [ 0.78221312, -0.85106801,  0.18664186, ...,  0.09812139,\n",
       "         0.02499488,  0.06150916],\n",
       "       [-1.43579109,  0.99645926,  1.85670895, ..., -0.15779865,\n",
       "        -0.22852947, -0.09586294]])"
      ]
     },
     "execution_count": 98,
     "metadata": {},
     "output_type": "execute_result"
    }
   ],
   "source": [
    "from sklearn.preprocessing import StandardScaler\n",
    "from sklearn.impute import SimpleImputer\n",
    "from sklearn.pipeline import Pipeline\n",
    "\n",
    "numeric_pipeline = Pipeline([\n",
    "    (\"imputer\",  SimpleImputer(strategy = \"median\")),\n",
    "     (\"attr_adder\", CombinedAttributesAdder(add_bedrooms_per_room= False)),\n",
    "     (\"std_scalar\", StandardScaler()),\n",
    "    \n",
    "])\n",
    "\n",
    "numeric_pipeline.fit_transform(housing_train_data_numerics)"
   ]
  },
  {
   "cell_type": "code",
   "execution_count": 99,
   "metadata": {},
   "outputs": [
    {
     "data": {
      "text/plain": [
       "Index(['longitude', 'latitude', 'housing_median_age', 'total_rooms',\n",
       "       'total_bedrooms', 'population', 'households', 'median_income'],\n",
       "      dtype='object')"
      ]
     },
     "execution_count": 99,
     "metadata": {},
     "output_type": "execute_result"
    }
   ],
   "source": [
    "(housing_train_data.shape)\n",
    "housing_train_data_numerics.columns"
   ]
  },
  {
   "cell_type": "markdown",
   "metadata": {},
   "source": [
    "### Categorical and numeric pipelines together"
   ]
  },
  {
   "cell_type": "code",
   "execution_count": 108,
   "metadata": {},
   "outputs": [],
   "source": [
    "# Categorical and numeric pipelines together\n",
    "from sklearn.preprocessing import StandardScaler\n",
    "from sklearn.impute import SimpleImputer\n",
    "from sklearn.preprocessing import OneHotEncoder\n",
    "from sklearn.compose import ColumnTransformer\n",
    "from sklearn.pipeline import Pipeline\n",
    "\n",
    "\n",
    "features_num = housing_train_data_numerics.columns\n",
    "features_cat = [\"ocean_proximity\"]\n",
    "\n",
    "overall_pipeline = ColumnTransformer( [  \n",
    "    (\"num_pipeline\" , numeric_pipeline, features_num),\n",
    "    (\"encoder\" , OneHotEncoder(), features_cat )\n",
    "    \n",
    "])\n",
    "\n",
    "\n",
    "\n",
    "housing_prepared_train = overall_pipeline.fit_transform(housing_train_data)"
   ]
  },
  {
   "cell_type": "code",
   "execution_count": 101,
   "metadata": {},
   "outputs": [
    {
     "name": "stdout",
     "output_type": "stream",
     "text": [
      "(16512, 15)\n",
      "(16512,)\n"
     ]
    }
   ],
   "source": [
    "print(pd.DataFrame(housing_prepared_train).shape)\n",
    "print((housing_train_label).shape)"
   ]
  },
  {
   "cell_type": "code",
   "execution_count": 111,
   "metadata": {},
   "outputs": [
    {
     "data": {
      "text/plain": [
       "array([[-1.15604281,  0.77194962,  0.74333089, ...,  0.        ,\n",
       "         0.        ,  0.        ],\n",
       "       [-1.17602483,  0.6596948 , -1.1653172 , ...,  0.        ,\n",
       "         0.        ,  0.        ],\n",
       "       [ 1.18684903, -1.34218285,  0.18664186, ...,  0.        ,\n",
       "         0.        ,  1.        ],\n",
       "       ...,\n",
       "       [ 1.58648943, -0.72478134, -1.56295222, ...,  0.        ,\n",
       "         0.        ,  0.        ],\n",
       "       [ 0.78221312, -0.85106801,  0.18664186, ...,  0.        ,\n",
       "         0.        ,  0.        ],\n",
       "       [-1.43579109,  0.99645926,  1.85670895, ...,  0.        ,\n",
       "         1.        ,  0.        ]])"
      ]
     },
     "execution_count": 111,
     "metadata": {},
     "output_type": "execute_result"
    }
   ],
   "source": [
    "housing_prepared_train"
   ]
  },
  {
   "cell_type": "markdown",
   "metadata": {},
   "source": [
    "###  Train the model"
   ]
  },
  {
   "cell_type": "code",
   "execution_count": 103,
   "metadata": {},
   "outputs": [
    {
     "data": {
      "text/plain": [
       "LinearRegression()"
      ]
     },
     "execution_count": 103,
     "metadata": {},
     "output_type": "execute_result"
    }
   ],
   "source": [
    "from sklearn.linear_model import LinearRegression\n",
    "\n",
    "lin_reg = LinearRegression()\n",
    "lin_reg.fit(housing_prepared_train,housing_train_label)"
   ]
  },
  {
   "cell_type": "code",
   "execution_count": 123,
   "metadata": {},
   "outputs": [
    {
     "name": "stdout",
     "output_type": "stream",
     "text": [
      "predicated :  [211888.26540421 321274.25149998 210853.46010112  62261.10820843\n",
      " 194921.76527689]\n",
      "actual :  [286600.0, 340600.0, 196900.0, 46300.0, 254500.0]\n"
     ]
    },
    {
     "name": "stderr",
     "output_type": "stream",
     "text": [
      "C:\\ProgramData\\Anaconda3\\lib\\site-packages\\sklearn\\compose\\_column_transformer.py:437: FutureWarning: Given feature/column names or counts do not match the ones for the data given during fit. This will fail from v0.24.\n",
      "  warnings.warn(\"Given feature/column names or counts do not match \"\n"
     ]
    }
   ],
   "source": [
    "some_train = strat_train_set.iloc[:5]\n",
    "# print((some_train.shape))\n",
    "\n",
    "some_train_label  = housing_train_label[:5] \n",
    "some_train_prepared = overall_pipeline.transform(some_train)\n",
    "# print(some_train_prepared)\n",
    "\n",
    "print(\"predicated : \", lin_reg.predict(some_train_prepared))\n",
    "print(\"actual : \", list(some_train_label))"
   ]
  },
  {
   "cell_type": "markdown",
   "metadata": {},
   "source": [
    "the results are almost same . lets look at the metrices"
   ]
  },
  {
   "cell_type": "code",
   "execution_count": 127,
   "metadata": {},
   "outputs": [
    {
     "data": {
      "text/plain": [
       "68911.7605423384"
      ]
     },
     "execution_count": 127,
     "metadata": {},
     "output_type": "execute_result"
    }
   ],
   "source": [
    "from sklearn.metrics import mean_squared_error\n",
    "\n",
    "\n",
    "housing_preds = lin_reg.predict(housing_prepared_train)\n",
    "lin_mse = mean_squared_error(housing_preds, housing_train_label)\n",
    "lin_rmse = np.sqrt(lin_mse)\n",
    "lin_rmse"
   ]
  },
  {
   "cell_type": "code",
   "execution_count": 133,
   "metadata": {},
   "outputs": [],
   "source": [
    "# housing.describe()"
   ]
  },
  {
   "cell_type": "markdown",
   "metadata": {},
   "source": [
    "Most of median house value is between 1,20k and 2,65k and  apred error of 68k is not good. model is underfitting. Features didi not provide enought info  about the problem."
   ]
  },
  {
   "cell_type": "markdown",
   "metadata": {},
   "source": [
    "### lets try DT and see meanwhile"
   ]
  },
  {
   "cell_type": "code",
   "execution_count": 138,
   "metadata": {},
   "outputs": [
    {
     "name": "stdout",
     "output_type": "stream",
     "text": [
      "0.0\n"
     ]
    }
   ],
   "source": [
    "from sklearn.tree import DecisionTreeRegressor\n",
    "\n",
    "tree_reg = DecisionTreeRegressor()\n",
    "tree_reg.fit(housing_prepared_train, housing_train_label)\n",
    "pred_tree = tree_reg.predict(housing_prepared_train)\n",
    "\n",
    "\n",
    "from sklearn.metrics import mean_squared_error\n",
    "tree_mse = mean_squared_error(pred_tree, housing_train_label)\n",
    "tree_rmse = np.sqrt(tree_mse)\n",
    "print(tree_rmse)"
   ]
  },
  {
   "cell_type": "markdown",
   "metadata": {},
   "source": [
    "- This can't be possible at all. \n",
    "- The explanation is that the model has badly overfit the data. \n",
    "- We need to look at better evaluation metrics for the model.\n"
   ]
  },
  {
   "cell_type": "markdown",
   "metadata": {},
   "source": [
    "### better evaluation using cross validation "
   ]
  },
  {
   "cell_type": "code",
   "execution_count": 149,
   "metadata": {},
   "outputs": [
    {
     "name": "stdout",
     "output_type": "stream",
     "text": [
      "RMSE           :  [70229.09085166 67189.05560629 67431.63360183 69624.88507597\n",
      " 70727.34158223 74330.30233999 71335.37281616 71923.56039628\n",
      " 76352.01678591 69287.69158029]\n",
      "Mean           :  70843.09506365955\n",
      "Std            :  2705.5935600739135\n"
     ]
    }
   ],
   "source": [
    "from sklearn.model_selection import cross_val_score\n",
    "score = cross_val_score(tree_reg, housing_prepared_train,housing_train_label, scoring = \"neg_mean_squared_error\", cv= 10)\n",
    "\n",
    "tree_rmse_scores = np.sqrt(-score)\n",
    "print(\"RMSE           : \", tree_rmse_scores)\n",
    "print(\"Mean           : \", tree_rmse_scores.mean())\n",
    "print(\"Std            : \", tree_rmse_scores.std())\n"
   ]
  },
  {
   "cell_type": "markdown",
   "metadata": {},
   "source": [
    "now, the performance is not zero. but it looks bad. 70k error is not acceptable. Lets try RF"
   ]
  },
  {
   "cell_type": "markdown",
   "metadata": {},
   "source": [
    "### Random Forest Classifier"
   ]
  },
  {
   "cell_type": "code",
   "execution_count": 151,
   "metadata": {},
   "outputs": [
    {
     "data": {
      "text/plain": [
       "RandomForestRegressor()"
      ]
     },
     "execution_count": 151,
     "metadata": {},
     "output_type": "execute_result"
    }
   ],
   "source": [
    "from sklearn.ensemble import RandomForestRegressor\n",
    "forest_reg = RandomForestRegressor()\n",
    "forest_reg.fit(housing_prepared_train, housing_train_label)\n"
   ]
  },
  {
   "cell_type": "code",
   "execution_count": 153,
   "metadata": {},
   "outputs": [
    {
     "name": "stdout",
     "output_type": "stream",
     "text": [
      "RMSE           :  [-2.42239302e+09 -2.24495833e+09 -2.43354033e+09 -2.73503966e+09\n",
      " -2.45561717e+09 -2.90169803e+09 -2.40963334e+09 -2.29972533e+09\n",
      " -2.79257727e+09 -2.55894641e+09]\n",
      "Mean           :  -2525412888.927323\n",
      "Std            :  206144327.09820852\n"
     ]
    }
   ],
   "source": [
    "pred_forest = forest_reg.predict(housing_prepared_train)\n",
    "\n",
    "score = cross_val_score(forest_reg, housing_prepared_train, housing_train_label, \n",
    "                       scoring = \"neg_mean_squared_error\",\n",
    "                       cv= 10)\n",
    "tree_rmse_scores = np.sqrt(-score)\n",
    "print(\"RMSE           : \", score)\n",
    "print(\"Mean           : \", score.mean())\n",
    "print(\"Std            : \", score.std())\n"
   ]
  },
  {
   "cell_type": "code",
   "execution_count": 156,
   "metadata": {},
   "outputs": [
    {
     "name": "stdout",
     "output_type": "stream",
     "text": [
      "18654.427426955703\n"
     ]
    }
   ],
   "source": [
    "from sklearn.metrics import mean_squared_error\n",
    "mse_forest = mean_squared_error(housing_train_label,pred_forest)\n",
    "rmse_forest = np.sqrt(mse_forest)\n",
    "print(rmse_forest)"
   ]
  },
  {
   "cell_type": "markdown",
   "metadata": {},
   "source": [
    "### Saving the sample model"
   ]
  },
  {
   "cell_type": "code",
   "execution_count": 158,
   "metadata": {},
   "outputs": [
    {
     "data": {
      "text/plain": [
       "['forest_reg.pkl']"
      ]
     },
     "execution_count": 158,
     "metadata": {},
     "output_type": "execute_result"
    }
   ],
   "source": [
    "import joblib\n",
    "joblib.dump(forest_reg, \"forest_reg.pkl\")"
   ]
  },
  {
   "cell_type": "code",
   "execution_count": 159,
   "metadata": {},
   "outputs": [],
   "source": [
    "forest_reg = joblib.load( \"forest_reg.pkl\")"
   ]
  },
  {
   "cell_type": "markdown",
   "metadata": {},
   "source": [
    "### How to fine tune model"
   ]
  },
  {
   "cell_type": "markdown",
   "metadata": {},
   "source": [
    "- Assuming  that we have some ML models shortlisted, let's tune  the model"
   ]
  },
  {
   "cell_type": "code",
   "execution_count": 169,
   "metadata": {},
   "outputs": [],
   "source": [
    "from sklearn.model_selection import GridSearchCV\n",
    "\n",
    "param_grid = [\n",
    "    {\"n_estimators\" :[3,10,30],\n",
    "             \"max_features\" : [2,4,6,8],\n",
    "             \"bootstrap\" : [False] }\n",
    "     ]\n"
   ]
  },
  {
   "cell_type": "code",
   "execution_count": 172,
   "metadata": {},
   "outputs": [
    {
     "data": {
      "text/plain": [
       "GridSearchCV(cv=5, estimator=RandomForestRegressor(),\n",
       "             param_grid=[{'bootstrap': [False], 'max_features': [2, 4, 6, 8],\n",
       "                          'n_estimators': [3, 10, 30]}],\n",
       "             return_train_score=True, scoring='neg_mean_squared_error')"
      ]
     },
     "execution_count": 172,
     "metadata": {},
     "output_type": "execute_result"
    }
   ],
   "source": [
    "model = RandomForestRegressor()\n",
    "grid_search = GridSearchCV(model, param_grid, cv = 5, scoring = \"neg_mean_squared_error\",\n",
    "                          return_train_score= True)\n",
    "grid_search.fit(housing_prepared_train, housing_train_label)"
   ]
  },
  {
   "cell_type": "code",
   "execution_count": 174,
   "metadata": {},
   "outputs": [
    {
     "data": {
      "text/plain": [
       "{'bootstrap': False, 'max_features': 6, 'n_estimators': 30}"
      ]
     },
     "execution_count": 174,
     "metadata": {},
     "output_type": "execute_result"
    }
   ],
   "source": [
    "grid_search.best_params_"
   ]
  },
  {
   "cell_type": "code",
   "execution_count": 181,
   "metadata": {},
   "outputs": [
    {
     "data": {
      "text/plain": [
       "{'mean_fit_time': array([0.21118536, 0.76212258, 2.24014211, 0.36199365, 1.20001178,\n",
       "        3.6022419 , 0.49538307, 1.65300636, 4.73237057, 0.61395559,\n",
       "        2.00281878, 6.13971777]),\n",
       " 'std_fit_time': array([0.03244846, 0.01266329, 0.07425911, 0.00959578, 0.02018618,\n",
       "        0.0284559 , 0.01277019, 0.03680222, 0.17997191, 0.00836306,\n",
       "        0.11512439, 0.47721861]),\n",
       " 'mean_score_time': array([0.00986462, 0.02603197, 0.0662466 , 0.00624261, 0.02216735,\n",
       "        0.06319532, 0.00644436, 0.02107124, 0.05997782, 0.00815353,\n",
       "        0.02281976, 0.0681427 ]),\n",
       " 'std_score_time': array([0.00806688, 0.0070559 , 0.00680326, 0.00764561, 0.00801959,\n",
       "        0.00059617, 0.00789879, 0.00569333, 0.01455195, 0.00288372,\n",
       "        0.00306712, 0.00700102]),\n",
       " 'param_bootstrap': masked_array(data=[False, False, False, False, False, False, False, False,\n",
       "                    False, False, False, False],\n",
       "              mask=[False, False, False, False, False, False, False, False,\n",
       "                    False, False, False, False],\n",
       "        fill_value='?',\n",
       "             dtype=object),\n",
       " 'param_max_features': masked_array(data=[2, 2, 2, 4, 4, 4, 6, 6, 6, 8, 8, 8],\n",
       "              mask=[False, False, False, False, False, False, False, False,\n",
       "                    False, False, False, False],\n",
       "        fill_value='?',\n",
       "             dtype=object),\n",
       " 'param_n_estimators': masked_array(data=[3, 10, 30, 3, 10, 30, 3, 10, 30, 3, 10, 30],\n",
       "              mask=[False, False, False, False, False, False, False, False,\n",
       "                    False, False, False, False],\n",
       "        fill_value='?',\n",
       "             dtype=object),\n",
       " 'params': [{'bootstrap': False, 'max_features': 2, 'n_estimators': 3},\n",
       "  {'bootstrap': False, 'max_features': 2, 'n_estimators': 10},\n",
       "  {'bootstrap': False, 'max_features': 2, 'n_estimators': 30},\n",
       "  {'bootstrap': False, 'max_features': 4, 'n_estimators': 3},\n",
       "  {'bootstrap': False, 'max_features': 4, 'n_estimators': 10},\n",
       "  {'bootstrap': False, 'max_features': 4, 'n_estimators': 30},\n",
       "  {'bootstrap': False, 'max_features': 6, 'n_estimators': 3},\n",
       "  {'bootstrap': False, 'max_features': 6, 'n_estimators': 10},\n",
       "  {'bootstrap': False, 'max_features': 6, 'n_estimators': 30},\n",
       "  {'bootstrap': False, 'max_features': 8, 'n_estimators': 3},\n",
       "  {'bootstrap': False, 'max_features': 8, 'n_estimators': 10},\n",
       "  {'bootstrap': False, 'max_features': 8, 'n_estimators': 30}],\n",
       " 'split0_test_score': array([-3.52453266e+09, -2.70849432e+09, -2.44037849e+09, -3.28707226e+09,\n",
       "        -2.42228120e+09, -2.27644563e+09, -3.08535824e+09, -2.32648237e+09,\n",
       "        -2.28819856e+09, -3.14171814e+09, -2.55981795e+09, -2.29390930e+09]),\n",
       " 'split1_test_score': array([-3.75212304e+09, -3.07996284e+09, -2.75377755e+09, -3.55455077e+09,\n",
       "        -2.71594442e+09, -2.44632796e+09, -3.09646907e+09, -2.71165111e+09,\n",
       "        -2.42387321e+09, -3.31273527e+09, -2.61208211e+09, -2.47004523e+09]),\n",
       " 'split2_test_score': array([-3.96582558e+09, -3.02341411e+09, -2.73184870e+09, -3.50606284e+09,\n",
       "        -2.72868174e+09, -2.58990256e+09, -3.24763961e+09, -2.75264332e+09,\n",
       "        -2.51239936e+09, -3.34482089e+09, -2.68537085e+09, -2.52144708e+09]),\n",
       " 'split3_test_score': array([-3.62763485e+09, -2.73830893e+09, -2.46437491e+09, -3.27207887e+09,\n",
       "        -2.50591948e+09, -2.29434631e+09, -3.12377918e+09, -2.43601761e+09,\n",
       "        -2.33830517e+09, -3.20425825e+09, -2.41453810e+09, -2.31348613e+09]),\n",
       " 'split4_test_score': array([-3.83694327e+09, -3.06142775e+09, -2.79339745e+09, -3.71315140e+09,\n",
       "        -2.78527846e+09, -2.55347413e+09, -3.17079849e+09, -2.68205113e+09,\n",
       "        -2.53559360e+09, -3.29244538e+09, -2.65300890e+09, -2.55816896e+09]),\n",
       " 'mean_test_score': array([-3.74141188e+09, -2.92232159e+09, -2.63675542e+09, -3.46658323e+09,\n",
       "        -2.63162106e+09, -2.43209932e+09, -3.14480892e+09, -2.58176911e+09,\n",
       "        -2.41967398e+09, -3.25919558e+09, -2.58496358e+09, -2.43141134e+09]),\n",
       " 'std_test_score': array([1.54650762e+08, 1.63709344e+08, 1.52021431e+08, 1.67420978e+08,\n",
       "        1.41255701e+08, 1.28872126e+08, 5.92671616e+07, 1.68842314e+08,\n",
       "        9.58745604e+07, 7.49970663e+07, 9.49993119e+07, 1.08147745e+08]),\n",
       " 'rank_test_score': array([12,  8,  7, 11,  6,  3,  9,  4,  1, 10,  5,  2]),\n",
       " 'split0_train_score': array([  -0.        ,  -63.97153456, -109.43380355,   -0.        ,\n",
       "          -0.        ,   -0.        ,   -0.        ,   -0.        ,\n",
       "          -0.        ,   -0.        ,   -0.        ,   -0.        ]),\n",
       " 'split1_train_score': array([  -0.        ,   -0.        , -133.16509787,   -0.        ,\n",
       "          -0.74191839,   -0.        ,   -0.        ,   -0.        ,\n",
       "          -0.        ,   -0.        ,   -0.        ,   -0.        ]),\n",
       " 'split2_train_score': array([  -0.        , -946.25283876,  -21.14391454,   -0.        ,\n",
       "          -0.        ,   -0.        ,   -0.        ,   -0.        ,\n",
       "          -0.        ,   -0.        ,   -0.        ,   -0.        ]),\n",
       " 'split3_train_score': array([-0.        , -0.        , -2.82782404, -0.        , -0.        ,\n",
       "        -0.        , -0.        , -0.        , -0.        , -0.        ,\n",
       "        -0.        , -0.        ]),\n",
       " 'split4_train_score': array([-872.90772983,   -0.96896291,   -4.55547144,   -0.        ,\n",
       "          -0.        ,   -0.        ,   -0.        ,   -0.        ,\n",
       "          -0.        ,   -0.        ,   -0.        ,   -0.        ]),\n",
       " 'mean_train_score': array([-1.74581546e+02, -2.02238667e+02, -5.42252223e+01,  0.00000000e+00,\n",
       "        -1.48383678e-01,  0.00000000e+00,  0.00000000e+00,  0.00000000e+00,\n",
       "         0.00000000e+00,  0.00000000e+00,  0.00000000e+00,  0.00000000e+00]),\n",
       " 'std_train_score': array([3.49163092e+02, 3.72823105e+02, 5.56464572e+01, 0.00000000e+00,\n",
       "        2.96767356e-01, 0.00000000e+00, 0.00000000e+00, 0.00000000e+00,\n",
       "        0.00000000e+00, 0.00000000e+00, 0.00000000e+00, 0.00000000e+00])}"
      ]
     },
     "execution_count": 181,
     "metadata": {},
     "output_type": "execute_result"
    }
   ],
   "source": [
    "# grid_search.cv_results_[\"params\"]\n",
    "grid_search.cv_results_"
   ]
  },
  {
   "cell_type": "code",
   "execution_count": 189,
   "metadata": {},
   "outputs": [
    {
     "name": "stdout",
     "output_type": "stream",
     "text": [
      "61167.08167279409 {'bootstrap': False, 'max_features': 2, 'n_estimators': 3}\n",
      "54058.5015729152 {'bootstrap': False, 'max_features': 2, 'n_estimators': 10}\n",
      "51349.34683783016 {'bootstrap': False, 'max_features': 2, 'n_estimators': 30}\n",
      "58877.697201669835 {'bootstrap': False, 'max_features': 4, 'n_estimators': 3}\n",
      "51299.3280732415 {'bootstrap': False, 'max_features': 4, 'n_estimators': 10}\n",
      "49316.319002664124 {'bootstrap': False, 'max_features': 4, 'n_estimators': 30}\n",
      "56078.59589581089 {'bootstrap': False, 'max_features': 6, 'n_estimators': 3}\n",
      "50811.1120549979 {'bootstrap': False, 'max_features': 6, 'n_estimators': 10}\n",
      "49190.18174993344 {'bootstrap': False, 'max_features': 6, 'n_estimators': 30}\n",
      "57089.36490010019 {'bootstrap': False, 'max_features': 8, 'n_estimators': 3}\n",
      "50842.53712959392 {'bootstrap': False, 'max_features': 8, 'n_estimators': 10}\n",
      "49309.34333026553 {'bootstrap': False, 'max_features': 8, 'n_estimators': 30}\n"
     ]
    }
   ],
   "source": [
    "gs = grid_search.cv_results_\n",
    "for mean_score, params in zip(gs[\"mean_test_score\"], gs[\"params\"]):\n",
    "    print(np.sqrt(-mean_score), params)"
   ]
  },
  {
   "cell_type": "code",
   "execution_count": 195,
   "metadata": {},
   "outputs": [
    {
     "data": {
      "text/plain": [
       "array([9.14109716e-02, 8.96862696e-02, 4.45688613e-02, 1.75399394e-02,\n",
       "       1.70203517e-02, 1.78171183e-02, 1.66984150e-02, 3.51229720e-01,\n",
       "       8.87487400e-02, 1.07420397e-01, 8.78295277e-03, 1.39328543e-01,\n",
       "       5.97139669e-05, 3.26634137e-03, 6.42166482e-03])"
      ]
     },
     "execution_count": 195,
     "metadata": {},
     "output_type": "execute_result"
    }
   ],
   "source": [
    "grid_search.best_estimator_.feature_importances_"
   ]
  },
  {
   "cell_type": "code",
   "execution_count": 237,
   "metadata": {},
   "outputs": [
    {
     "data": {
      "text/plain": [
       "[(0.3512297198134524, 'median_income'),\n",
       " (0.13932854290227764, 'INLAND'),\n",
       " (0.10742039739525129, 'population_per_household'),\n",
       " (0.09141097163777877, 'longitude'),\n",
       " (0.08968626962802433, 'latitude'),\n",
       " (0.08874873995201932, 'rooms_per_household'),\n",
       " (0.04456886127516904, 'housing_median_age'),\n",
       " (0.01781711832538722, 'population'),\n",
       " (0.01753993944630724, 'total_rooms'),\n",
       " (0.01702035171690667, 'total_bedrooms'),\n",
       " (0.016698414970501993, 'households'),\n",
       " (0.008782952774103818, '<1H OCEAN'),\n",
       " (0.006421664821931766, 'NEAR OCEAN'),\n",
       " (0.003266341373956522, 'NEAR BAY'),\n",
       " (5.971396693206782e-05, 'ISLAND')]"
      ]
     },
     "execution_count": 237,
     "metadata": {},
     "output_type": "execute_result"
    }
   ],
   "source": [
    "#need to find column  names in the training data . that includes  newly created columns , cat columns and numeric columns\n",
    "\n",
    "\n",
    "cat_encoder = overall_pipeline.named_transformers_[\"encoder\"]\n",
    "cat_one_hot_attributes = list(cat_encoder.categories_[0])\n",
    "new_attribs = [\"rooms_per_household\",\"population_per_household\" ] \n",
    "attributes = list(features_num)  + new_attribs + cat_one_hot_attributes\n",
    "#[\"rooms_per_household\", \"bedrooms_per_hosehold\", \"bedrooms_per_room\"]\n",
    "\n",
    "sorted(zip(grid_search.best_estimator_.feature_importances_, attributes), reverse=True)\n",
    "\n",
    "\n"
   ]
  },
  {
   "cell_type": "markdown",
   "metadata": {},
   "source": [
    "Ocean proximity seems to be a usefull variable . we may drop some unimportant features at this moment"
   ]
  },
  {
   "cell_type": "markdown",
   "metadata": {},
   "source": [
    "### Evaluating the model"
   ]
  },
  {
   "cell_type": "code",
   "execution_count": 244,
   "metadata": {},
   "outputs": [],
   "source": [
    "final_model = grid_search.best_estimator_\n",
    "\n",
    "X_test = strat_test_set.drop(\"median_house_value\", axis=1)\n",
    "y_test = strat_test_set[\"median_house_value\"].copy()"
   ]
  },
  {
   "cell_type": "code",
   "execution_count": 246,
   "metadata": {},
   "outputs": [
    {
     "name": "stderr",
     "output_type": "stream",
     "text": [
      "C:\\ProgramData\\Anaconda3\\lib\\site-packages\\sklearn\\compose\\_column_transformer.py:437: FutureWarning: Given feature/column names or counts do not match the ones for the data given during fit. This will fail from v0.24.\n",
      "  warnings.warn(\"Given feature/column names or counts do not match \"\n"
     ]
    },
    {
     "data": {
      "text/plain": [
       "46723.31488713131"
      ]
     },
     "execution_count": 246,
     "metadata": {},
     "output_type": "execute_result"
    }
   ],
   "source": [
    "X_test_prepared =  overall_pipeline.transform(X_test)\n",
    "\n",
    "final_preds=  final_model.predict(X_test_prepared)\n",
    "final_mse = mean_squared_error(y_test, final_preds)\n",
    "final_rmse = np.sqrt(final_mse)\n",
    "final_rmse"
   ]
  },
  {
   "cell_type": "markdown",
   "metadata": {},
   "source": [
    "How do we know that this is better or not.?? \n",
    "\n",
    "- To be sure lets calculate a confidence interval of 95% where i can be sure of telling that :\n",
    "- my result will be in this range 95% of the time"
   ]
  },
  {
   "cell_type": "code",
   "execution_count": 250,
   "metadata": {},
   "outputs": [
    {
     "data": {
      "text/plain": [
       "array([44698.33293264, 48664.10731871])"
      ]
     },
     "execution_count": 250,
     "metadata": {},
     "output_type": "execute_result"
    }
   ],
   "source": [
    "from scipy import stats \n",
    "confidence = 0.95\n",
    "squared_error = (final_preds-y_test)**2\n",
    "np.sqrt(stats.t.interval(confidence,\n",
    "                         len(squared_error)-1, \n",
    "                        loc = squared_error.mean(),\n",
    "                        scale = stats.sem(squared_error)))    "
   ]
  },
  {
   "cell_type": "code",
   "execution_count": 263,
   "metadata": {},
   "outputs": [
    {
     "name": "stdout",
     "output_type": "stream",
     "text": [
      "179500.0 207376.57739825582 -0.13442490829000575\n",
      "179500.0 46723.31488713131 0.7397029811301877\n"
     ]
    }
   ],
   "source": [
    "print(housing_train_label.median(),final_preds.mean(),\n",
    "      ((housing_train_label.median()-final_preds.mean())/(final_preds.mean())))\n",
    "final_rmse\n",
    "print(housing_train_label.median(),final_rmse,\n",
    "      ((housing_train_label.median()-final_rmse)/(housing_train_label.median())))"
   ]
  },
  {
   "cell_type": "code",
   "execution_count": 252,
   "metadata": {},
   "outputs": [
    {
     "data": {
      "text/plain": [
       "[(48783.333333333336, 49800.0),\n",
       " (48913.333333333336, 50100.0),\n",
       " (50026.666666666664, 54800.0),\n",
       " (50076.666666666664, 51700.0),\n",
       " (50346.666666666664, 49100.0),\n",
       " (50520.0, 46800.0),\n",
       " (50816.666666666664, 45300.0),\n",
       " (51790.0, 51400.0),\n",
       " (51866.666666666664, 40900.0),\n",
       " (51950.0, 48500.0),\n",
       " (52203.333333333336, 53000.0),\n",
       " (52400.0, 53400.0),\n",
       " (52413.333333333336, 42700.0),\n",
       " (52490.0, 56500.0),\n",
       " (52496.666666666664, 47100.0),\n",
       " (52560.0, 50800.0),\n",
       " (52686.666666666664, 53000.0),\n",
       " (52743.333333333336, 51800.0),\n",
       " (52930.0, 57400.0),\n",
       " (52999.96666666667, 53100.0),\n",
       " (53060.0, 50800.0),\n",
       " (53360.0, 58300.0),\n",
       " (53416.666666666664, 67800.0),\n",
       " (53420.0, 52300.0),\n",
       " (53936.666666666664, 43300.0),\n",
       " (54020.0, 51200.0),\n",
       " (54430.0, 51600.0),\n",
       " (54923.333333333336, 106300.0),\n",
       " (55136.666666666664, 55300.0),\n",
       " (55160.0, 59000.0),\n",
       " (55336.666666666664, 60500.0),\n",
       " (55456.666666666664, 42500.0),\n",
       " (55540.0, 55100.0),\n",
       " (55940.0, 68900.0),\n",
       " (56273.333333333336, 110400.0),\n",
       " (56323.333333333336, 51600.0),\n",
       " (56400.0, 49800.0),\n",
       " (56696.666666666664, 48000.0),\n",
       " (56700.0, 61200.0),\n",
       " (56723.333333333336, 58300.0),\n",
       " (57160.0, 71300.0),\n",
       " (57240.0, 57100.0),\n",
       " (57420.0, 50700.0),\n",
       " (57986.666666666664, 47700.0),\n",
       " (58030.0, 62400.0),\n",
       " (58150.0, 67500.0),\n",
       " (58313.333333333336, 61600.0),\n",
       " (58340.0, 42600.0),\n",
       " (58400.0, 46700.0),\n",
       " (58406.666666666664, 47400.0),\n",
       " (58610.0, 67200.0),\n",
       " (58769.96666666667, 61300.0),\n",
       " (59053.333333333336, 53900.0),\n",
       " (59083.333333333336, 60400.0),\n",
       " (59300.0, 61500.0),\n",
       " (59453.333333333336, 55500.0),\n",
       " (59600.0, 61300.0),\n",
       " (59600.0, 62200.0),\n",
       " (59673.333333333336, 63000.0),\n",
       " (59680.0, 60900.0),\n",
       " (59806.666666666664, 48300.0),\n",
       " (59823.26666666667, 87500.0),\n",
       " (59936.666666666664, 60700.0),\n",
       " (60283.333333333336, 46700.0),\n",
       " (60330.0, 60200.0),\n",
       " (60360.0, 47500.0),\n",
       " (60666.666666666664, 55300.0),\n",
       " (61173.333333333336, 65200.0),\n",
       " (61183.333333333336, 53000.0),\n",
       " (61186.666666666664, 47500.0),\n",
       " (61200.0, 48000.0),\n",
       " (61203.333333333336, 48600.0),\n",
       " (61373.3, 52000.0),\n",
       " (61373.333333333336, 61200.0),\n",
       " (61383.333333333336, 44000.0),\n",
       " (61493.333333333336, 53500.0),\n",
       " (61513.333333333336, 58500.0),\n",
       " (61596.666666666664, 67200.0),\n",
       " (61726.666666666664, 55900.0),\n",
       " (61800.0, 60300.0),\n",
       " (61830.0, 56100.0),\n",
       " (61866.666666666664, 57200.0),\n",
       " (62096.666666666664, 52300.0),\n",
       " (62320.0, 43000.0),\n",
       " (62573.333333333336, 60800.0),\n",
       " (63030.0, 87500.0),\n",
       " (63066.666666666664, 39800.0),\n",
       " (63243.333333333336, 55500.0),\n",
       " (63550.0, 59300.0),\n",
       " (63553.333333333336, 74600.0),\n",
       " (63576.666666666664, 69000.0),\n",
       " (63590.0, 60800.0),\n",
       " (63750.0, 59000.0),\n",
       " (63833.333333333336, 52600.0),\n",
       " (64010.0, 72500.0),\n",
       " (64313.333333333336, 67200.0),\n",
       " (64396.666666666664, 63100.0),\n",
       " (64420.0, 62900.0),\n",
       " (64493.333333333336, 46200.0),\n",
       " (65083.333333333336, 51900.0),\n",
       " (65143.333333333336, 63400.0),\n",
       " (65173.333333333336, 67600.0),\n",
       " (65183.333333333336, 49300.0),\n",
       " (65600.0, 48100.0),\n",
       " (65610.0, 72300.0),\n",
       " (65696.66666666667, 76400.0),\n",
       " (65770.0, 55200.0),\n",
       " (65776.66666666667, 58800.0),\n",
       " (65823.33333333333, 59100.0),\n",
       " (66026.66666666667, 74100.0),\n",
       " (66053.33333333333, 63400.0),\n",
       " (66120.0, 63200.0),\n",
       " (66223.33333333333, 71200.0),\n",
       " (66303.33333333333, 55400.0),\n",
       " (66473.33333333333, 58400.0),\n",
       " (66540.0, 63900.0),\n",
       " (66570.0, 65500.0),\n",
       " (66576.66666666667, 84700.0),\n",
       " (66626.66666666667, 62300.0),\n",
       " (66680.0, 65200.0),\n",
       " (66796.66666666667, 67500.0),\n",
       " (66856.66666666667, 67500.0),\n",
       " (67070.0, 73800.0),\n",
       " (67073.33333333333, 58000.0),\n",
       " (67126.66666666667, 62000.0),\n",
       " (67520.0, 94300.0),\n",
       " (67526.66666666667, 60400.0),\n",
       " (67530.0, 81700.0),\n",
       " (67756.66666666667, 39200.0),\n",
       " (67770.0, 60500.0),\n",
       " (67780.0, 56700.0),\n",
       " (67833.33333333333, 67500.0),\n",
       " (68523.33333333333, 65600.0),\n",
       " (68526.66666666667, 61500.0),\n",
       " (68536.66666666667, 65900.0),\n",
       " (68563.33333333333, 62300.0),\n",
       " (68733.33333333333, 76400.0),\n",
       " (68773.33333333333, 53000.0),\n",
       " (68966.66666666667, 63900.0),\n",
       " (69296.66666666667, 55400.0),\n",
       " (69333.33333333333, 90600.0),\n",
       " (69390.0, 58700.0),\n",
       " (69446.66666666667, 105300.0),\n",
       " (69510.0, 67800.0),\n",
       " (69523.33333333333, 65800.0),\n",
       " (69543.33333333333, 64700.0),\n",
       " (69546.66666666667, 100000.0),\n",
       " (69570.0, 69400.0),\n",
       " (69570.0, 76900.0),\n",
       " (69660.0, 87500.0),\n",
       " (69803.33333333333, 72500.0),\n",
       " (69856.66666666667, 68200.0),\n",
       " (69890.0, 50500.0),\n",
       " (69993.33333333333, 59800.0),\n",
       " (70170.0, 71900.0),\n",
       " (70243.33333333333, 60000.0),\n",
       " (70386.66666666667, 64000.0),\n",
       " (70420.0, 84500.0),\n",
       " (70423.33333333333, 48100.0),\n",
       " (70503.33333333333, 60400.0),\n",
       " (70506.66666666667, 57900.0),\n",
       " (70563.33333333333, 73700.0),\n",
       " (70593.33333333333, 68500.0),\n",
       " (70946.66666666667, 59300.0),\n",
       " (70996.66666666667, 81100.0),\n",
       " (71063.33333333333, 57000.0),\n",
       " (71156.66666666667, 67000.0),\n",
       " (71220.0, 75600.0),\n",
       " (71473.33333333333, 60600.0),\n",
       " (71490.0, 66100.0),\n",
       " (71716.66666666667, 60600.0),\n",
       " (72183.33333333333, 58000.0),\n",
       " (72210.0, 94200.0),\n",
       " (72226.66666666667, 85700.0),\n",
       " (72356.66666666667, 92500.0),\n",
       " (72430.0, 56200.0),\n",
       " (72450.0, 55000.0),\n",
       " (72506.66666666667, 62500.0),\n",
       " (72586.66666666667, 60900.0),\n",
       " (72680.0, 72300.0),\n",
       " (72683.33333333333, 73000.0),\n",
       " (72690.0, 63800.0),\n",
       " (72940.0, 55000.0),\n",
       " (73190.0, 71500.0),\n",
       " (73203.33333333333, 59200.0),\n",
       " (73273.33333333333, 70800.0),\n",
       " (73300.0, 81100.0),\n",
       " (73326.66666666667, 63500.0),\n",
       " (73383.33333333333, 72000.0),\n",
       " (73406.66666666667, 59200.0),\n",
       " (73416.66666666667, 63700.0),\n",
       " (73506.66666666667, 67300.0),\n",
       " (73526.66666666667, 59000.0),\n",
       " (73556.66666666667, 129200.0),\n",
       " (73686.66666666667, 61400.0),\n",
       " (73740.0, 71600.0),\n",
       " (73843.33333333333, 72200.0),\n",
       " (73860.0, 61000.0),\n",
       " (74013.33333333333, 68200.0),\n",
       " (74043.33333333333, 84700.0),\n",
       " (74120.0, 69100.0),\n",
       " (74196.66666666667, 48800.0),\n",
       " (74256.66666666667, 58200.0),\n",
       " (74363.33333333333, 119200.0),\n",
       " (74380.0, 70600.0),\n",
       " (74443.33333333333, 59600.0),\n",
       " (74460.0, 73800.0),\n",
       " (74530.0, 65000.0),\n",
       " (74573.33333333333, 67700.0),\n",
       " (74603.33333333333, 93500.0),\n",
       " (74660.0, 70600.0),\n",
       " (74690.0, 83700.0),\n",
       " (74703.33333333333, 65800.0),\n",
       " (74940.0, 73100.0),\n",
       " (74950.0, 72700.0),\n",
       " (75200.0, 78600.0),\n",
       " (75323.33333333333, 54300.0),\n",
       " (75376.66666666667, 80600.0),\n",
       " (75500.0, 96000.0),\n",
       " (75556.66666666667, 70400.0),\n",
       " (75596.66666666667, 70100.0),\n",
       " (75860.0, 66000.0),\n",
       " (75886.66666666667, 67300.0),\n",
       " (75900.0, 59800.0),\n",
       " (76033.33333333333, 85100.0),\n",
       " (76186.66666666667, 98700.0),\n",
       " (76206.66666666667, 69000.0),\n",
       " (76410.0, 66000.0),\n",
       " (76643.33333333333, 81300.0),\n",
       " (76670.0, 82300.0),\n",
       " (76696.66666666667, 59400.0),\n",
       " (76720.0, 75800.0),\n",
       " (76743.33333333333, 62000.0),\n",
       " (76753.33333333333, 30000.0),\n",
       " (76756.66666666667, 74300.0),\n",
       " (76953.33333333333, 81900.0),\n",
       " (76966.66666666667, 79700.0),\n",
       " (77063.33333333333, 85500.0),\n",
       " (77120.0, 78600.0),\n",
       " (77336.66666666667, 112500.0),\n",
       " (77383.33333333333, 70300.0),\n",
       " (77390.0, 55600.0),\n",
       " (77410.0, 67500.0),\n",
       " (77410.0, 75800.0),\n",
       " (77433.33333333333, 72800.0),\n",
       " (77576.66666666667, 66800.0),\n",
       " (77603.33333333333, 54000.0),\n",
       " (77606.66666666667, 134000.0),\n",
       " (77636.66666666667, 65200.0),\n",
       " (77733.33333333333, 89600.0),\n",
       " (77840.0, 69700.0),\n",
       " (77903.33333333333, 70700.0),\n",
       " (77923.33333333333, 123100.0),\n",
       " (78060.0, 75500.0),\n",
       " (78216.66666666667, 92400.0),\n",
       " (78293.33333333333, 93800.0),\n",
       " (78446.66666666667, 80300.0),\n",
       " (78483.33333333333, 73100.0),\n",
       " (78540.0, 70500.0),\n",
       " (78613.33333333333, 83000.0),\n",
       " (78653.33333333333, 59100.0),\n",
       " (78830.0, 94200.0),\n",
       " (78856.66666666667, 65300.0),\n",
       " (78896.66666666667, 91700.0),\n",
       " (79010.0, 60900.0),\n",
       " (79133.33333333333, 51800.0),\n",
       " (79263.33333333333, 70100.0),\n",
       " (79596.66666666667, 57700.0),\n",
       " (79743.33333333333, 105000.0),\n",
       " (79866.66666666667, 72900.0),\n",
       " (79896.66666666667, 94600.0),\n",
       " (79966.66666666667, 200000.0),\n",
       " (80076.66666666667, 58300.0),\n",
       " (80116.66666666667, 72700.0),\n",
       " (80146.66666666667, 63600.0),\n",
       " (80203.33333333333, 67900.0),\n",
       " (80233.33333333333, 70500.0),\n",
       " (80370.0, 69900.0),\n",
       " (80466.66666666667, 75800.0),\n",
       " (80496.66666666667, 90300.0),\n",
       " (80526.66666666667, 65600.0),\n",
       " (80623.33333333333, 76400.0),\n",
       " (80656.66666666667, 72200.0),\n",
       " (80706.66666666667, 61500.0),\n",
       " (80943.33333333333, 61900.0),\n",
       " (80973.33333333333, 72300.0),\n",
       " (80990.0, 61000.0),\n",
       " (81020.0, 67000.0),\n",
       " (81020.0, 101400.0),\n",
       " (81150.0, 52500.0),\n",
       " (81176.66666666667, 76200.0),\n",
       " (81213.33333333333, 54400.0),\n",
       " (81293.33333333333, 128900.0),\n",
       " (81316.66666666667, 82000.0),\n",
       " (81533.33333333333, 72800.0),\n",
       " (81626.66666666667, 70300.0),\n",
       " (81656.66666666667, 77100.0),\n",
       " (81853.33333333333, 74100.0),\n",
       " (81913.33333333333, 55000.0),\n",
       " (82033.33333333333, 66000.0),\n",
       " (82040.0, 42100.0),\n",
       " (82063.33333333333, 80100.0),\n",
       " (82096.66666666667, 80200.0),\n",
       " (82166.66666666667, 75600.0),\n",
       " (82166.66666666667, 95000.0),\n",
       " (82196.66666666667, 77500.0),\n",
       " (82226.66666666667, 70600.0),\n",
       " (82513.3, 71000.0),\n",
       " (82546.66666666667, 45500.0),\n",
       " (82546.66666666667, 74800.0),\n",
       " (82566.66666666667, 93800.0),\n",
       " (82573.33333333333, 91500.0),\n",
       " (82586.66666666667, 81100.0),\n",
       " (82630.0, 75100.0),\n",
       " (82796.66666666667, 67000.0),\n",
       " (82860.0, 73700.0),\n",
       " (82926.66666666667, 64700.0),\n",
       " (82946.66666666667, 105800.0),\n",
       " (82973.33333333333, 73500.0),\n",
       " (82983.33333333333, 70900.0),\n",
       " (83063.33333333333, 70000.0),\n",
       " (83286.66666666667, 98900.0),\n",
       " (83440.0, 70500.0),\n",
       " (83450.0, 72400.0),\n",
       " (83546.66666666667, 71000.0),\n",
       " (83626.66666666667, 54400.0),\n",
       " (83670.0, 40400.0),\n",
       " (83813.33333333333, 83300.0),\n",
       " (83833.33333333333, 72400.0),\n",
       " (83976.66666666667, 82100.0),\n",
       " (84073.33333333333, 91700.0),\n",
       " (84176.66666666667, 89400.0),\n",
       " (84250.0, 73300.0),\n",
       " (84346.66666666667, 73200.0),\n",
       " (84360.0, 54400.0),\n",
       " (84376.66666666667, 84500.0),\n",
       " (84380.0, 71500.0),\n",
       " (84533.33333333333, 71400.0),\n",
       " (84630.0, 71900.0),\n",
       " (84730.0, 71400.0),\n",
       " (84766.66666666667, 85500.0),\n",
       " (84773.33333333333, 89500.0),\n",
       " (84856.66666666667, 63500.0),\n",
       " (84963.33333333333, 65300.0),\n",
       " (85006.66666666667, 79400.0),\n",
       " (85096.66666666667, 112500.0),\n",
       " (85123.33333333333, 82500.0),\n",
       " (85146.66666666667, 79800.0),\n",
       " (85210.0, 82800.0),\n",
       " (85220.0, 69100.0),\n",
       " (85296.66666666667, 104900.0),\n",
       " (85396.66666666667, 112500.0),\n",
       " (85470.0, 77700.0),\n",
       " (85606.66666666667, 95300.0),\n",
       " (85630.0, 68500.0),\n",
       " (85650.0, 84000.0),\n",
       " (85693.33333333333, 83500.0),\n",
       " (85816.66666666667, 80500.0),\n",
       " (85830.0, 72900.0),\n",
       " (85850.0, 90000.0),\n",
       " (85880.0, 104200.0),\n",
       " (85923.33333333333, 80400.0),\n",
       " (86000.0, 94100.0),\n",
       " (86043.33333333333, 91700.0),\n",
       " (86150.0, 76600.0),\n",
       " (86163.33333333333, 75300.0),\n",
       " (86170.0, 81300.0),\n",
       " (86180.0, 72500.0),\n",
       " (86226.66666666667, 225000.0),\n",
       " (86360.0, 96600.0),\n",
       " (86373.33333333333, 72800.0),\n",
       " (86373.33333333333, 82000.0),\n",
       " (86553.33333333333, 66300.0),\n",
       " (86553.33333333333, 87800.0),\n",
       " (86666.66666666667, 71100.0),\n",
       " (86803.33333333333, 79200.0),\n",
       " (86836.66666666667, 89200.0),\n",
       " (86840.0, 83900.0),\n",
       " (86986.66666666667, 73500.0),\n",
       " (87156.66666666667, 77200.0),\n",
       " (87166.66666666667, 77200.0),\n",
       " (87240.0, 78200.0),\n",
       " (87246.66666666667, 81300.0),\n",
       " (87256.66666666667, 94300.0),\n",
       " (87323.33333333333, 126400.0),\n",
       " (87336.66666666667, 90200.0),\n",
       " (87426.66666666667, 69600.0),\n",
       " (87506.66666666667, 103900.0),\n",
       " (87560.0, 60900.0),\n",
       " (87566.66666666667, 84700.0),\n",
       " (87833.33333333333, 86800.0),\n",
       " (87903.33333333333, 62000.0),\n",
       " (87920.0, 110300.0),\n",
       " (88010.0, 74800.0),\n",
       " (88123.33333333333, 74100.0),\n",
       " (88296.66666666667, 93400.0),\n",
       " (88350.0, 86400.0),\n",
       " (88460.0, 94900.0),\n",
       " (88470.0, 130300.0),\n",
       " (88540.0, 73400.0),\n",
       " (88573.33333333333, 64900.0),\n",
       " (88643.33333333333, 87800.0),\n",
       " (88796.66666666667, 144000.0),\n",
       " (88876.66666666667, 89400.0),\n",
       " (88910.0, 80400.0),\n",
       " (88993.33333333333, 54200.0),\n",
       " (89003.33333333333, 88900.0),\n",
       " (89043.33333333333, 91400.0),\n",
       " (89103.33333333333, 90800.0),\n",
       " (89126.66666666667, 72500.0),\n",
       " (89126.66666666667, 90800.0),\n",
       " (89146.66666666667, 86100.0),\n",
       " (89230.0, 75900.0),\n",
       " (89243.33333333333, 94700.0),\n",
       " (89306.66666666667, 101600.0),\n",
       " (89426.66666666667, 66000.0),\n",
       " (89463.33333333333, 94900.0),\n",
       " (89480.0, 124100.0),\n",
       " (89656.66666666667, 92400.0),\n",
       " (89726.66666666667, 87800.0),\n",
       " (89730.0, 100800.0),\n",
       " (89733.33333333333, 95700.0),\n",
       " (89743.33333333333, 98800.0),\n",
       " (89866.66666666667, 87000.0),\n",
       " (90136.66666666667, 86700.0),\n",
       " (90193.33333333333, 101300.0),\n",
       " (90206.66666666667, 88600.0),\n",
       " (90213.33333333333, 85400.0),\n",
       " (90376.66666666667, 63600.0),\n",
       " (90436.66666666667, 56100.0),\n",
       " (90493.33333333333, 83300.0),\n",
       " (90496.66666666667, 113900.0),\n",
       " (90506.66666666667, 81800.0),\n",
       " (90600.0, 63400.0),\n",
       " (90643.33333333333, 75600.0),\n",
       " (90656.66666666667, 102800.0),\n",
       " (90700.0, 92600.0),\n",
       " (90706.66666666667, 89200.0),\n",
       " (90796.66666666667, 80600.0),\n",
       " (91013.33333333333, 81500.0),\n",
       " (91066.66666666667, 93600.0),\n",
       " (91166.66666666667, 101900.0),\n",
       " (91170.0, 85300.0),\n",
       " (91210.0, 116700.0),\n",
       " (91230.0, 75600.0),\n",
       " (91250.0, 93400.0),\n",
       " (91323.33333333333, 81500.0),\n",
       " (91386.66666666667, 105200.0),\n",
       " (91400.0, 64500.0),\n",
       " (91440.0, 77500.0),\n",
       " (91536.66666666667, 77300.0),\n",
       " (91580.0, 225000.0),\n",
       " (91616.66666666667, 81000.0),\n",
       " (91633.33333333333, 77100.0),\n",
       " (91660.0, 76400.0),\n",
       " (91710.0, 70000.0),\n",
       " (91746.66666666667, 87500.0),\n",
       " (91763.33333333333, 151400.0),\n",
       " (91926.66666666667, 85400.0),\n",
       " (91960.0, 82600.0),\n",
       " (91996.66666666667, 69400.0),\n",
       " (92283.33333333333, 92900.0),\n",
       " (92380.0, 73500.0),\n",
       " (92383.33333333333, 70100.0),\n",
       " (92400.0, 112500.0),\n",
       " (92460.0, 84400.0),\n",
       " (92480.0, 71200.0),\n",
       " (92520.0, 75900.0),\n",
       " (92543.33333333333, 84400.0),\n",
       " (92556.66666666667, 95900.0),\n",
       " (92623.33333333333, 94600.0),\n",
       " (92686.7, 91700.0),\n",
       " (92696.66666666667, 82400.0),\n",
       " (92736.66666666667, 52800.0),\n",
       " (92766.66666666667, 53900.0),\n",
       " (92773.33333333333, 70400.0),\n",
       " (92796.66666666667, 118800.0),\n",
       " (92886.66666666667, 84100.0),\n",
       " (92950.0, 88900.0),\n",
       " (92990.0, 107800.0),\n",
       " (92996.63333333333, 55000.0),\n",
       " (93013.33333333333, 89600.0),\n",
       " (93053.33333333333, 138100.0),\n",
       " (93106.66666666667, 85000.0),\n",
       " (93240.0, 108300.0),\n",
       " (93356.66666666667, 86500.0),\n",
       " (93406.66666666667, 90300.0),\n",
       " (93473.33333333333, 79000.0),\n",
       " (93513.33333333333, 81300.0),\n",
       " (93533.33333333333, 118800.0),\n",
       " (93566.66666666667, 123800.0),\n",
       " (93606.66666666667, 80700.0),\n",
       " (93606.66666666667, 86800.0),\n",
       " (93670.0, 84100.0),\n",
       " (93743.33333333333, 93600.0),\n",
       " (93776.66666666667, 83400.0),\n",
       " (93776.66666666667, 101500.0),\n",
       " (93790.0, 125000.0),\n",
       " (93843.33333333333, 73600.0),\n",
       " (93933.33333333333, 79500.0),\n",
       " (93940.03333333334, 50000.0),\n",
       " (94036.66666666667, 112500.0),\n",
       " (94096.66666666667, 89000.0),\n",
       " (94333.33333333333, 77900.0),\n",
       " (94343.33333333333, 87500.0),\n",
       " (94453.33333333333, 105600.0),\n",
       " (94463.33333333333, 90800.0),\n",
       " (94503.33333333333, 83000.0),\n",
       " (94516.66666666667, 93500.0),\n",
       " (94606.66666666667, 92600.0),\n",
       " (94613.33333333333, 94600.0),\n",
       " (94683.33333333333, 86300.0),\n",
       " (94756.66666666667, 94200.0),\n",
       " (94850.0, 81200.0),\n",
       " (94980.0, 94700.0),\n",
       " (95003.33333333333, 88500.0),\n",
       " (95106.66666666667, 55000.0),\n",
       " (95116.66666666667, 71800.0),\n",
       " (95163.33333333333, 125000.0),\n",
       " (95166.66666666667, 103100.0),\n",
       " (95186.66666666667, 71400.0),\n",
       " (95203.33333333333, 95200.0),\n",
       " (95290.0, 105400.0),\n",
       " (95380.0, 169300.0),\n",
       " (95383.33333333333, 132000.0),\n",
       " (95460.0, 95300.0),\n",
       " (95660.0, 212500.0),\n",
       " (95800.0, 79800.0),\n",
       " (95816.66666666667, 89200.0),\n",
       " (95820.0, 88600.0),\n",
       " (95840.0, 85500.0),\n",
       " (95886.66666666667, 97300.0),\n",
       " (95956.66666666667, 92500.0),\n",
       " (95986.66666666667, 89100.0),\n",
       " (96040.0, 54200.0),\n",
       " (96050.0, 80200.0),\n",
       " (96066.66666666667, 95000.0),\n",
       " (96166.66666666667, 91300.0),\n",
       " (96206.66666666667, 95100.0),\n",
       " (96253.33333333333, 91500.0),\n",
       " (96260.0, 85500.0),\n",
       " (96266.66666666667, 73000.0),\n",
       " (96380.0, 112500.0),\n",
       " (96500.0, 90400.0),\n",
       " (96603.33333333333, 122400.0),\n",
       " (96656.66666666667, 81100.0),\n",
       " (96750.0, 71500.0),\n",
       " (96786.66666666667, 97700.0),\n",
       " (96810.03333333334, 67500.0),\n",
       " (96846.66666666667, 87100.0),\n",
       " (96906.66666666667, 86400.0),\n",
       " (96920.0, 96600.0),\n",
       " (97036.66666666667, 140600.0),\n",
       " (97050.0, 93100.0),\n",
       " (97160.0, 103900.0),\n",
       " (97183.33333333333, 69800.0),\n",
       " (97210.0, 90000.0),\n",
       " (97276.66666666667, 95500.0),\n",
       " (97500.0, 111800.0),\n",
       " (97576.66666666667, 83100.0),\n",
       " (97603.33333333333, 225000.0),\n",
       " (97610.0, 84900.0),\n",
       " (97696.66666666667, 112500.0),\n",
       " (97763.33333333333, 90500.0),\n",
       " (97773.33333333333, 275000.0),\n",
       " (97780.0, 82200.0),\n",
       " (97936.66666666667, 82100.0),\n",
       " (97943.33333333333, 97000.0),\n",
       " (97953.33333333333, 126900.0),\n",
       " (97956.66666666667, 100800.0),\n",
       " (98123.33333333333, 118400.0),\n",
       " (98143.33333333333, 104000.0),\n",
       " (98163.33333333333, 41300.0),\n",
       " (98203.33333333333, 84200.0),\n",
       " (98220.0, 90400.0),\n",
       " (98336.66666666667, 113300.0),\n",
       " (98413.33333333333, 104900.0),\n",
       " (98533.33333333333, 101800.0),\n",
       " (98653.33333333333, 103100.0),\n",
       " (98730.0, 79300.0),\n",
       " (98820.0, 95700.0),\n",
       " (98820.0, 103000.0),\n",
       " (98836.66666666667, 102100.0),\n",
       " (98856.66666666667, 84200.0),\n",
       " (98886.66666666667, 92400.0),\n",
       " (99030.0, 100300.0),\n",
       " (99120.0, 81500.0),\n",
       " (99190.0, 104200.0),\n",
       " (99223.33333333333, 108600.0),\n",
       " (99390.0, 122500.0),\n",
       " (99540.0, 100400.0),\n",
       " (99743.33333333333, 105100.0),\n",
       " (99780.0, 85700.0),\n",
       " (99806.66666666667, 67200.0),\n",
       " (100063.33333333333, 92800.0),\n",
       " (100076.66666666667, 87500.0),\n",
       " (100090.0, 100600.0),\n",
       " (100153.33333333333, 70800.0),\n",
       " (100203.33333333333, 59200.0),\n",
       " (100236.66666666667, 92600.0),\n",
       " (100236.66666666667, 94600.0),\n",
       " (100260.0, 82800.0),\n",
       " (100406.66666666667, 100000.0),\n",
       " (100496.66666666667, 78800.0),\n",
       " (100556.66666666667, 88800.0),\n",
       " (100620.0, 93700.0),\n",
       " (100633.33333333333, 96300.0),\n",
       " (100686.66666666667, 99200.0),\n",
       " (100706.66666666667, 110600.0),\n",
       " (100770.0, 109400.0),\n",
       " (100773.33333333333, 96900.0),\n",
       " (100910.0, 22500.0),\n",
       " (100963.33333333333, 100000.0),\n",
       " (101003.33333333333, 104600.0),\n",
       " (101063.33333333333, 123900.0),\n",
       " (101220.0, 65600.0),\n",
       " (101246.66666666667, 92200.0),\n",
       " (101406.66666666667, 84800.0),\n",
       " (101430.0, 116700.0),\n",
       " (101443.33333333333, 73200.0),\n",
       " (101516.66666666667, 72900.0),\n",
       " (101570.0, 91100.0),\n",
       " (101583.33333333333, 88400.0),\n",
       " (101656.66666666667, 100000.0),\n",
       " (101730.0, 114800.0),\n",
       " (101883.33333333333, 86500.0),\n",
       " (102076.66666666667, 96000.0),\n",
       " (102106.66666666667, 100000.0),\n",
       " (102110.0, 107000.0),\n",
       " (102143.33333333333, 152800.0),\n",
       " (102253.33333333333, 90400.0),\n",
       " (102290.0, 90900.0),\n",
       " (102393.3, 116300.0),\n",
       " (102616.66666666667, 118800.0),\n",
       " (102630.0, 81300.0),\n",
       " (102630.0, 97300.0),\n",
       " (102646.66666666667, 92800.0),\n",
       " (102696.66666666667, 103100.0),\n",
       " (102766.66666666667, 107700.0),\n",
       " (102776.66666666667, 219400.0),\n",
       " (102786.66666666667, 106000.0),\n",
       " (102836.66666666667, 91400.0),\n",
       " (102873.33333333333, 91200.0),\n",
       " (102900.0, 102900.0),\n",
       " (102926.66666666667, 78800.0),\n",
       " (102953.33333333333, 71200.0),\n",
       " (103106.66666666667, 94700.0),\n",
       " (103166.66666666667, 97600.0),\n",
       " (103180.0, 81800.0),\n",
       " (103373.33333333333, 87500.0),\n",
       " (103403.33333333333, 82300.0),\n",
       " (103446.66666666667, 110600.0),\n",
       " (103720.0, 93100.0),\n",
       " (103726.66666666667, 126600.0),\n",
       " (103793.33333333333, 76700.0),\n",
       " (103876.66666666667, 137900.0),\n",
       " (103890.0, 126500.0),\n",
       " (103903.33333333333, 71300.0),\n",
       " (103946.66666666667, 86500.0),\n",
       " (103996.66666666667, 97100.0),\n",
       " (104080.0, 86200.0),\n",
       " (104083.33333333333, 108000.0),\n",
       " (104216.66666666667, 80300.0),\n",
       " (104290.0, 95000.0),\n",
       " (104310.0, 111700.0),\n",
       " (104403.33333333333, 82100.0),\n",
       " (104530.0, 118500.0),\n",
       " (104566.66666666667, 83300.0),\n",
       " (104630.0, 79900.0),\n",
       " (104640.0, 93300.0),\n",
       " (104736.66666666667, 116100.0),\n",
       " (104793.33333333333, 98900.0),\n",
       " (104933.3, 72500.0),\n",
       " (104950.0, 150000.0),\n",
       " (104956.66666666667, 124500.0),\n",
       " (105033.33333333333, 74000.0),\n",
       " (105036.66666666667, 95000.0),\n",
       " (105056.66666666667, 143400.0),\n",
       " (105216.66666666667, 121900.0),\n",
       " (105286.66666666667, 103100.0),\n",
       " (105300.0, 90400.0),\n",
       " (105346.66666666667, 101600.0),\n",
       " (105383.33333333333, 105200.0),\n",
       " (105490.0, 137500.0),\n",
       " (105630.0, 96300.0),\n",
       " (105690.0, 67500.0),\n",
       " (105700.0, 93400.0),\n",
       " (105703.33333333333, 116700.0),\n",
       " (105846.66666666667, 86100.0),\n",
       " (105890.0, 113600.0),\n",
       " (106040.0, 84300.0),\n",
       " (106323.33333333333, 114800.0),\n",
       " (106386.66666666667, 87500.0),\n",
       " (106386.66666666667, 98400.0),\n",
       " (106473.33333333333, 86600.0),\n",
       " (106530.0, 90100.0),\n",
       " (106670.0, 86900.0),\n",
       " (106686.66666666667, 93800.0),\n",
       " (106783.33333333333, 97000.0),\n",
       " (106813.33333333333, 114800.0),\n",
       " (106826.66666666667, 104000.0),\n",
       " (106846.66666666667, 108000.0),\n",
       " (106870.0, 96800.0),\n",
       " (106926.66666666667, 104200.0),\n",
       " (107020.0, 71300.0),\n",
       " (107143.33333333333, 111300.0),\n",
       " (107150.0, 110800.0),\n",
       " (107153.33333333333, 92900.0),\n",
       " (107196.66666666667, 88000.0),\n",
       " (107340.0, 125000.0),\n",
       " (107353.33333333333, 118300.0),\n",
       " (107380.0, 100000.0),\n",
       " (107410.0, 96600.0),\n",
       " (107480.0, 93200.0),\n",
       " (107686.66666666667, 162500.0),\n",
       " (107743.33333333333, 92300.0),\n",
       " (107753.33333333333, 93800.0),\n",
       " (107836.66666666667, 74400.0),\n",
       " (107880.0, 96200.0),\n",
       " (107926.66666666667, 111800.0),\n",
       " (107936.66666666667, 95300.0),\n",
       " (107980.0, 121900.0),\n",
       " (108040.0, 98900.0),\n",
       " (108040.0, 152700.0),\n",
       " (108143.33333333333, 130900.0),\n",
       " (108183.33333333333, 103400.0),\n",
       " (108210.0, 115400.0),\n",
       " (108383.33333333333, 110400.0),\n",
       " (108450.0, 98200.0),\n",
       " (108553.33333333333, 96900.0),\n",
       " (108653.33333333333, 100900.0),\n",
       " (108680.0, 98300.0),\n",
       " (108706.66666666667, 64800.0),\n",
       " (108740.03333333334, 87500.0),\n",
       " (108746.66666666667, 88800.0),\n",
       " (108750.0, 94100.0),\n",
       " (108780.0, 101400.0),\n",
       " (108786.66666666667, 91900.0),\n",
       " (108823.33333333333, 110800.0),\n",
       " (108860.0, 130600.0),\n",
       " (108920.0, 162500.0),\n",
       " (108933.33333333333, 107900.0),\n",
       " (108990.0, 104000.0),\n",
       " (109063.33333333333, 101200.0),\n",
       " (109093.33333333333, 105600.0),\n",
       " (109193.33333333333, 88200.0),\n",
       " (109370.0, 87200.0),\n",
       " (109370.0, 107600.0),\n",
       " (109396.66666666667, 103400.0),\n",
       " (109456.66666666667, 99800.0),\n",
       " (109756.66666666667, 98300.0),\n",
       " (109773.33333333333, 104400.0),\n",
       " (109780.0, 101500.0),\n",
       " (109860.0, 82000.0),\n",
       " (109920.0, 96100.0),\n",
       " (109953.33333333333, 105200.0),\n",
       " (110050.0, 99400.0),\n",
       " (110086.66666666667, 113900.0),\n",
       " (110116.66666666667, 114300.0),\n",
       " (110133.33333333333, 88900.0),\n",
       " (110456.66666666667, 84900.0),\n",
       " (110543.33333333333, 112900.0),\n",
       " (110573.33333333333, 109400.0),\n",
       " (110853.33333333333, 91900.0),\n",
       " (110930.0, 155700.0),\n",
       " (110963.33333333333, 87500.0),\n",
       " (110966.66666666667, 93200.0),\n",
       " (111053.33333333333, 96400.0),\n",
       " (111133.33333333333, 93300.0),\n",
       " (111240.0, 117600.0),\n",
       " (111260.0, 110200.0),\n",
       " (111309.96666666666, 95800.0),\n",
       " (111383.33333333333, 128000.0),\n",
       " (111553.33333333333, 98200.0),\n",
       " (111573.33333333333, 127900.0),\n",
       " (111656.66666666667, 95000.0),\n",
       " (111756.66666666667, 137500.0),\n",
       " (111893.33333333333, 94900.0),\n",
       " (111903.33333333333, 126600.0),\n",
       " (112063.33333333333, 98000.0),\n",
       " (112093.33333333333, 106900.0),\n",
       " (112133.33333333333, 112000.0),\n",
       " (112216.66666666667, 118800.0),\n",
       " (112256.66666666667, 146800.0),\n",
       " (112296.66666666667, 107500.0),\n",
       " (112330.0, 106300.0),\n",
       " (112340.0, 138800.0),\n",
       " (112380.0, 138200.0),\n",
       " (112386.66666666667, 101400.0),\n",
       " (112450.0, 97000.0),\n",
       " (112456.66666666667, 100500.0),\n",
       " (112743.33333333333, 94800.0),\n",
       " (112883.33333333333, 111400.0),\n",
       " (113003.33333333333, 98500.0),\n",
       " (113096.66666666667, 83500.0),\n",
       " (113250.0, 179200.0),\n",
       " (113296.66666666667, 143400.0),\n",
       " (113300.0, 105400.0),\n",
       " (113486.66666666667, 106400.0),\n",
       " (113506.66666666667, 115800.0),\n",
       " (113603.33333333333, 106200.0),\n",
       " (113700.0, 137500.0),\n",
       " (113710.0, 162500.0),\n",
       " (113770.0, 101900.0),\n",
       " (113783.33333333333, 101300.0),\n",
       " (113786.66666666667, 113200.0),\n",
       " (113793.33333333333, 99500.0),\n",
       " (114026.66666666667, 79800.0),\n",
       " (114073.33333333333, 98000.0),\n",
       " (114143.33333333333, 109700.0),\n",
       " (114146.66666666667, 120500.0),\n",
       " (114363.33333333333, 91000.0),\n",
       " (114370.0, 102700.0),\n",
       " (114450.0, 143800.0),\n",
       " (114466.66666666667, 112300.0),\n",
       " (114486.66666666667, 98900.0),\n",
       " (114563.33333333333, 115700.0),\n",
       " (114573.33333333333, 119000.0),\n",
       " (114590.0, 94700.0),\n",
       " (114810.0, 126600.0),\n",
       " (114953.33333333333, 127000.0),\n",
       " (114970.0, 110700.0),\n",
       " (115120.0, 92400.0),\n",
       " (115236.66666666667, 87100.0),\n",
       " (115303.33333333333, 108300.0),\n",
       " (115353.33333333333, 97400.0),\n",
       " (115416.66666666667, 156300.0),\n",
       " (115436.66666666667, 107000.0),\n",
       " (115553.33333333333, 116000.0),\n",
       " (115606.66666666667, 69800.0),\n",
       " (115616.66666666667, 146100.0),\n",
       " (115630.0, 114500.0),\n",
       " (115660.0, 80000.0),\n",
       " (116183.33333333333, 130600.0),\n",
       " (116246.66666666667, 105900.0),\n",
       " (116310.0, 109300.0),\n",
       " (116323.33333333333, 116700.0),\n",
       " (116470.0, 95300.0),\n",
       " (116540.0, 78600.0),\n",
       " (116646.66666666667, 136500.0),\n",
       " (116830.0, 101100.0),\n",
       " (116846.66666666667, 98400.0),\n",
       " (116883.33333333333, 187500.0),\n",
       " (116946.66666666667, 85900.0),\n",
       " (116970.0, 112300.0),\n",
       " (117010.0, 93000.0),\n",
       " (117010.0, 102400.0),\n",
       " (117013.33333333333, 94400.0),\n",
       " (117133.33333333333, 105000.0),\n",
       " (117166.66666666667, 123200.0),\n",
       " (117186.66666666667, 106300.0),\n",
       " (117310.0, 165600.0),\n",
       " (117346.66666666667, 134400.0),\n",
       " (117490.0, 140100.0),\n",
       " (117533.33333333333, 122600.0),\n",
       " (117673.33333333333, 125000.0),\n",
       " (117713.33333333333, 162500.0),\n",
       " (117780.0, 120700.0),\n",
       " (117793.33333333333, 177000.0),\n",
       " (117906.66666666667, 93200.0),\n",
       " (117916.66666666667, 116400.0),\n",
       " (117920.0, 132100.0),\n",
       " (117923.33333333333, 112500.0),\n",
       " (118096.66666666667, 100800.0),\n",
       " (118510.0, 118000.0),\n",
       " (118610.0, 106300.0),\n",
       " (118706.66666666667, 143100.0),\n",
       " (118763.33333333333, 129800.0),\n",
       " (118766.66666666667, 86900.0),\n",
       " (118796.66666666667, 212500.0),\n",
       " (118853.33333333333, 81000.0),\n",
       " (118866.66666666667, 102800.0),\n",
       " (118880.0, 54200.0),\n",
       " (118986.66666666667, 138500.0),\n",
       " (119013.33333333333, 105000.0),\n",
       " (119060.0, 148800.0),\n",
       " (119093.33333333333, 100000.0),\n",
       " (119146.66666666667, 70000.0),\n",
       " (119153.33333333333, 123500.0),\n",
       " (119390.0, 87500.0),\n",
       " (119430.0, 182600.0),\n",
       " (119536.66666666667, 149500.0),\n",
       " (119630.0, 98700.0),\n",
       " (119690.0, 116400.0),\n",
       " (119740.0, 98500.0),\n",
       " (119746.66666666667, 122600.0),\n",
       " (119763.33333333333, 99600.0),\n",
       " (119850.0, 62500.0),\n",
       " (120046.66666666667, 118900.0),\n",
       " (120116.66666666667, 93500.0),\n",
       " (120130.0, 124100.0),\n",
       " (120363.33333333333, 114300.0),\n",
       " (120380.0, 114800.0),\n",
       " (120450.0, 106700.0),\n",
       " (120510.0, 141400.0),\n",
       " (120586.66666666667, 143800.0),\n",
       " (120763.33333333333, 110800.0),\n",
       " (120870.0, 105200.0),\n",
       " (120933.33333333333, 127400.0),\n",
       " (120990.0, 91900.0),\n",
       " (121020.0, 103600.0),\n",
       " (121190.0, 95600.0),\n",
       " (121320.0, 115600.0),\n",
       " (121380.0, 189700.0),\n",
       " (121423.33333333333, 118900.0),\n",
       " (121436.66666666667, 133300.0),\n",
       " (121493.33333333333, 105800.0),\n",
       " (121590.0, 144400.0),\n",
       " (121623.33333333333, 105400.0),\n",
       " (121713.33333333333, 120200.0),\n",
       " (121723.33333333333, 129100.0),\n",
       " (121846.66666666667, 113500.0),\n",
       " (121860.0, 112500.0),\n",
       " (121870.0, 137500.0),\n",
       " (121893.33333333333, 118500.0),\n",
       " (121896.66666666667, 170700.0),\n",
       " (122223.33333333333, 112500.0),\n",
       " (122243.33333333333, 145200.0),\n",
       " (122406.66666666667, 112500.0),\n",
       " (122546.66666666667, 118800.0),\n",
       " (122560.0, 149300.0),\n",
       " (122563.33333333333, 117000.0),\n",
       " (122596.66666666667, 142900.0),\n",
       " (122620.0, 57500.0),\n",
       " (122633.33333333333, 87500.0),\n",
       " (122653.33333333333, 118500.0),\n",
       " (122723.33333333333, 175000.0),\n",
       " (122746.66666666667, 108600.0),\n",
       " (122966.66666666667, 101800.0),\n",
       " (122976.66666666667, 128800.0),\n",
       " (122980.0, 128600.0),\n",
       " (122990.0, 121300.0),\n",
       " (123070.0, 117000.0),\n",
       " (123153.33333333333, 96500.0),\n",
       " (123283.33333333333, 110700.0),\n",
       " (123310.0, 75000.0),\n",
       " (123340.0, 126100.0),\n",
       " (123553.33333333333, 130000.0),\n",
       " (123566.66666666667, 114400.0),\n",
       " (123573.33333333333, 113400.0),\n",
       " (123643.33333333333, 143400.0),\n",
       " (123746.66666666667, 142300.0),\n",
       " (123760.0, 143500.0),\n",
       " (123780.0, 96800.0),\n",
       " (123783.33333333333, 98800.0),\n",
       " (123816.7, 275000.0),\n",
       " (123856.66666666667, 89300.0),\n",
       " (123923.33333333333, 218800.0),\n",
       " (124143.33333333333, 126700.0),\n",
       " (124156.66666666667, 123100.0),\n",
       " (124206.66666666667, 142700.0),\n",
       " (124210.0, 93600.0),\n",
       " (124290.0, 91300.0),\n",
       " (124333.33333333333, 55000.0),\n",
       " (124376.66666666667, 128100.0),\n",
       " (124400.0, 116900.0),\n",
       " (124486.66666666667, 122500.0),\n",
       " (124530.0, 121500.0),\n",
       " (124560.0, 133400.0),\n",
       " (124673.33333333333, 98600.0),\n",
       " (124863.33333333333, 167400.0),\n",
       " (124886.66666666667, 115600.0),\n",
       " (124936.66666666667, 136200.0),\n",
       " (124980.0, 99300.0),\n",
       " (125090.0, 120000.0),\n",
       " (125106.66666666667, 107800.0),\n",
       " (125176.66666666667, 141700.0),\n",
       " (125293.33333333333, 122300.0),\n",
       " (125316.66666666667, 104900.0),\n",
       " (125343.33333333333, 87500.0),\n",
       " (125356.66666666667, 156300.0),\n",
       " (125420.0, 167500.0),\n",
       " (125463.33333333333, 183200.0),\n",
       " (125606.66666666667, 153600.0),\n",
       " (125683.33333333333, 141300.0),\n",
       " (125710.0, 132700.0),\n",
       " (125813.33333333333, 114800.0),\n",
       " (125846.66666666667, 129900.0),\n",
       " (125966.66666666667, 141100.0),\n",
       " (125976.66666666667, 114100.0),\n",
       " (125993.33333333333, 96700.0),\n",
       " (126003.33333333333, 145100.0),\n",
       " (126060.0, 275000.0),\n",
       " (126160.0, 151600.0),\n",
       " (126163.33333333333, 129200.0),\n",
       " (126210.0, 129200.0),\n",
       " (126333.33333333333, 133600.0),\n",
       " (126450.0, 96400.0),\n",
       " (126476.66666666667, 119800.0),\n",
       " (126480.0, 98500.0),\n",
       " (126543.33333333333, 111600.0),\n",
       " (126683.33333333333, 128500.0),\n",
       " (126806.66666666667, 105400.0),\n",
       " (126823.33333333333, 112900.0),\n",
       " (126916.66666666667, 132700.0),\n",
       " (126940.0, 68300.0),\n",
       " (126956.66666666667, 132800.0),\n",
       " (127006.66666666667, 151500.0),\n",
       " (127040.0, 89300.0),\n",
       " (127043.33333333333, 109600.0),\n",
       " ...]"
      ]
     },
     "execution_count": 252,
     "metadata": {},
     "output_type": "execute_result"
    }
   ],
   "source": [
    "sorted(zip(final_preds, y_test))"
   ]
  },
  {
   "cell_type": "markdown",
   "metadata": {},
   "source": [
    "- Prediction error of 40k i also not good compared to median house values in training data \n",
    "- but still better compared LR rmse\n",
    "- END OF ANALYSIS"
   ]
  },
  {
   "cell_type": "code",
   "execution_count": null,
   "metadata": {},
   "outputs": [],
   "source": []
  },
  {
   "cell_type": "code",
   "execution_count": null,
   "metadata": {},
   "outputs": [],
   "source": []
  },
  {
   "cell_type": "markdown",
   "metadata": {},
   "source": [
    "##### extra analysis"
   ]
  },
  {
   "cell_type": "code",
   "execution_count": 219,
   "metadata": {},
   "outputs": [
    {
     "data": {
      "text/plain": [
       "Index(['longitude', 'latitude', 'housing_median_age', 'total_rooms',\n",
       "       'total_bedrooms', 'population', 'households', 'median_income'],\n",
       "      dtype='object')"
      ]
     },
     "execution_count": 219,
     "metadata": {},
     "output_type": "execute_result"
    }
   ],
   "source": [
    "overall_pipeline.named_transformers_\n",
    "list(cat_encoder.categories_[0])\n",
    "features_num\n"
   ]
  },
  {
   "cell_type": "code",
   "execution_count": 206,
   "metadata": {},
   "outputs": [
    {
     "data": {
      "text/plain": [
       "Index(['longitude', 'latitude', 'housing_median_age', 'total_rooms',\n",
       "       'total_bedrooms', 'population', 'households', 'median_income',\n",
       "       'ocean_proximity'],\n",
       "      dtype='object')"
      ]
     },
     "execution_count": 206,
     "metadata": {},
     "output_type": "execute_result"
    }
   ],
   "source": [
    "housing_train_data.columns"
   ]
  },
  {
   "cell_type": "code",
   "execution_count": null,
   "metadata": {},
   "outputs": [],
   "source": []
  },
  {
   "cell_type": "markdown",
   "metadata": {},
   "source": [
    "### train test split"
   ]
  },
  {
   "cell_type": "code",
   "execution_count": 48,
   "metadata": {},
   "outputs": [],
   "source": [
    "from sklearn.model_selection import train_test_split\n",
    "train_set, test_set = train_test_split(housing, test_size = 0.2, random_state = 24) "
   ]
  },
  {
   "cell_type": "code",
   "execution_count": 62,
   "metadata": {},
   "outputs": [
    {
     "data": {
      "text/html": [
       "<div>\n",
       "<style scoped>\n",
       "    .dataframe tbody tr th:only-of-type {\n",
       "        vertical-align: middle;\n",
       "    }\n",
       "\n",
       "    .dataframe tbody tr th {\n",
       "        vertical-align: top;\n",
       "    }\n",
       "\n",
       "    .dataframe thead th {\n",
       "        text-align: right;\n",
       "    }\n",
       "</style>\n",
       "<table border=\"1\" class=\"dataframe\">\n",
       "  <thead>\n",
       "    <tr style=\"text-align: right;\">\n",
       "      <th></th>\n",
       "      <th>longitude</th>\n",
       "      <th>latitude</th>\n",
       "      <th>housing_median_age</th>\n",
       "      <th>total_rooms</th>\n",
       "      <th>total_bedrooms</th>\n",
       "      <th>population</th>\n",
       "      <th>households</th>\n",
       "      <th>median_income</th>\n",
       "      <th>median_house_value</th>\n",
       "      <th>ocean_proximity</th>\n",
       "    </tr>\n",
       "  </thead>\n",
       "  <tbody>\n",
       "    <tr>\n",
       "      <th>3950</th>\n",
       "      <td>-118.62</td>\n",
       "      <td>34.20</td>\n",
       "      <td>23.0</td>\n",
       "      <td>3098.0</td>\n",
       "      <td>542.0</td>\n",
       "      <td>1486.0</td>\n",
       "      <td>492.0</td>\n",
       "      <td>5.7613</td>\n",
       "      <td>235800.0</td>\n",
       "      <td>&lt;1H OCEAN</td>\n",
       "    </tr>\n",
       "    <tr>\n",
       "      <th>3113</th>\n",
       "      <td>-117.66</td>\n",
       "      <td>35.62</td>\n",
       "      <td>11.0</td>\n",
       "      <td>5897.0</td>\n",
       "      <td>1138.0</td>\n",
       "      <td>2728.0</td>\n",
       "      <td>1072.0</td>\n",
       "      <td>4.1500</td>\n",
       "      <td>85700.0</td>\n",
       "      <td>INLAND</td>\n",
       "    </tr>\n",
       "    <tr>\n",
       "      <th>10347</th>\n",
       "      <td>-117.66</td>\n",
       "      <td>33.61</td>\n",
       "      <td>21.0</td>\n",
       "      <td>1932.0</td>\n",
       "      <td>266.0</td>\n",
       "      <td>860.0</td>\n",
       "      <td>286.0</td>\n",
       "      <td>7.1497</td>\n",
       "      <td>274000.0</td>\n",
       "      <td>&lt;1H OCEAN</td>\n",
       "    </tr>\n",
       "    <tr>\n",
       "      <th>6971</th>\n",
       "      <td>-118.03</td>\n",
       "      <td>33.99</td>\n",
       "      <td>52.0</td>\n",
       "      <td>2792.0</td>\n",
       "      <td>461.0</td>\n",
       "      <td>1177.0</td>\n",
       "      <td>439.0</td>\n",
       "      <td>3.4312</td>\n",
       "      <td>243800.0</td>\n",
       "      <td>&lt;1H OCEAN</td>\n",
       "    </tr>\n",
       "    <tr>\n",
       "      <th>10940</th>\n",
       "      <td>-117.88</td>\n",
       "      <td>33.75</td>\n",
       "      <td>10.0</td>\n",
       "      <td>1823.0</td>\n",
       "      <td>590.0</td>\n",
       "      <td>2176.0</td>\n",
       "      <td>548.0</td>\n",
       "      <td>1.5026</td>\n",
       "      <td>151800.0</td>\n",
       "      <td>&lt;1H OCEAN</td>\n",
       "    </tr>\n",
       "    <tr>\n",
       "      <th>...</th>\n",
       "      <td>...</td>\n",
       "      <td>...</td>\n",
       "      <td>...</td>\n",
       "      <td>...</td>\n",
       "      <td>...</td>\n",
       "      <td>...</td>\n",
       "      <td>...</td>\n",
       "      <td>...</td>\n",
       "      <td>...</td>\n",
       "      <td>...</td>\n",
       "    </tr>\n",
       "    <tr>\n",
       "      <th>10658</th>\n",
       "      <td>-117.83</td>\n",
       "      <td>33.66</td>\n",
       "      <td>16.0</td>\n",
       "      <td>1574.0</td>\n",
       "      <td>385.0</td>\n",
       "      <td>515.0</td>\n",
       "      <td>363.0</td>\n",
       "      <td>5.3423</td>\n",
       "      <td>291700.0</td>\n",
       "      <td>&lt;1H OCEAN</td>\n",
       "    </tr>\n",
       "    <tr>\n",
       "      <th>8833</th>\n",
       "      <td>-118.37</td>\n",
       "      <td>34.09</td>\n",
       "      <td>31.0</td>\n",
       "      <td>6348.0</td>\n",
       "      <td>1827.0</td>\n",
       "      <td>2559.0</td>\n",
       "      <td>1755.0</td>\n",
       "      <td>3.2818</td>\n",
       "      <td>225000.0</td>\n",
       "      <td>&lt;1H OCEAN</td>\n",
       "    </tr>\n",
       "    <tr>\n",
       "      <th>918</th>\n",
       "      <td>-121.95</td>\n",
       "      <td>37.52</td>\n",
       "      <td>33.0</td>\n",
       "      <td>3994.0</td>\n",
       "      <td>764.0</td>\n",
       "      <td>2721.0</td>\n",
       "      <td>763.0</td>\n",
       "      <td>5.2308</td>\n",
       "      <td>196900.0</td>\n",
       "      <td>&lt;1H OCEAN</td>\n",
       "    </tr>\n",
       "    <tr>\n",
       "      <th>6098</th>\n",
       "      <td>-117.87</td>\n",
       "      <td>34.11</td>\n",
       "      <td>34.0</td>\n",
       "      <td>1324.0</td>\n",
       "      <td>211.0</td>\n",
       "      <td>799.0</td>\n",
       "      <td>228.0</td>\n",
       "      <td>4.5234</td>\n",
       "      <td>192200.0</td>\n",
       "      <td>&lt;1H OCEAN</td>\n",
       "    </tr>\n",
       "    <tr>\n",
       "      <th>12580</th>\n",
       "      <td>-121.42</td>\n",
       "      <td>38.51</td>\n",
       "      <td>21.0</td>\n",
       "      <td>3249.0</td>\n",
       "      <td>666.0</td>\n",
       "      <td>2611.0</td>\n",
       "      <td>663.0</td>\n",
       "      <td>1.9423</td>\n",
       "      <td>87800.0</td>\n",
       "      <td>INLAND</td>\n",
       "    </tr>\n",
       "  </tbody>\n",
       "</table>\n",
       "<p>4128 rows × 10 columns</p>\n",
       "</div>"
      ],
      "text/plain": [
       "       longitude  latitude  housing_median_age  total_rooms  total_bedrooms  \\\n",
       "3950     -118.62     34.20                23.0       3098.0           542.0   \n",
       "3113     -117.66     35.62                11.0       5897.0          1138.0   \n",
       "10347    -117.66     33.61                21.0       1932.0           266.0   \n",
       "6971     -118.03     33.99                52.0       2792.0           461.0   \n",
       "10940    -117.88     33.75                10.0       1823.0           590.0   \n",
       "...          ...       ...                 ...          ...             ...   \n",
       "10658    -117.83     33.66                16.0       1574.0           385.0   \n",
       "8833     -118.37     34.09                31.0       6348.0          1827.0   \n",
       "918      -121.95     37.52                33.0       3994.0           764.0   \n",
       "6098     -117.87     34.11                34.0       1324.0           211.0   \n",
       "12580    -121.42     38.51                21.0       3249.0           666.0   \n",
       "\n",
       "       population  households  median_income  median_house_value  \\\n",
       "3950       1486.0       492.0         5.7613            235800.0   \n",
       "3113       2728.0      1072.0         4.1500             85700.0   \n",
       "10347       860.0       286.0         7.1497            274000.0   \n",
       "6971       1177.0       439.0         3.4312            243800.0   \n",
       "10940      2176.0       548.0         1.5026            151800.0   \n",
       "...           ...         ...            ...                 ...   \n",
       "10658       515.0       363.0         5.3423            291700.0   \n",
       "8833       2559.0      1755.0         3.2818            225000.0   \n",
       "918        2721.0       763.0         5.2308            196900.0   \n",
       "6098        799.0       228.0         4.5234            192200.0   \n",
       "12580      2611.0       663.0         1.9423             87800.0   \n",
       "\n",
       "      ocean_proximity  \n",
       "3950        <1H OCEAN  \n",
       "3113           INLAND  \n",
       "10347       <1H OCEAN  \n",
       "6971        <1H OCEAN  \n",
       "10940       <1H OCEAN  \n",
       "...               ...  \n",
       "10658       <1H OCEAN  \n",
       "8833        <1H OCEAN  \n",
       "918         <1H OCEAN  \n",
       "6098        <1H OCEAN  \n",
       "12580          INLAND  \n",
       "\n",
       "[4128 rows x 10 columns]"
      ]
     },
     "execution_count": 62,
     "metadata": {},
     "output_type": "execute_result"
    }
   ],
   "source": [
    "(test_set)"
   ]
  },
  {
   "cell_type": "code",
   "execution_count": null,
   "metadata": {},
   "outputs": [],
   "source": []
  }
 ],
 "metadata": {
  "kernelspec": {
   "display_name": "Python 3",
   "language": "python",
   "name": "python3"
  },
  "language_info": {
   "codemirror_mode": {
    "name": "ipython",
    "version": 3
   },
   "file_extension": ".py",
   "mimetype": "text/x-python",
   "name": "python",
   "nbconvert_exporter": "python",
   "pygments_lexer": "ipython3",
   "version": "3.8.5"
  }
 },
 "nbformat": 4,
 "nbformat_minor": 4
}
